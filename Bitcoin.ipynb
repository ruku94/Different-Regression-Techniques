{
 "cells": [
  {
   "cell_type": "markdown",
   "metadata": {},
   "source": [
    "\n",
    "Submitted by: Group 7 ( Rukmani Thiruppathi , Venkata Kishore Kumar Pedisetty)"
   ]
  },
  {
   "cell_type": "markdown",
   "metadata": {},
   "source": [
    "### Project 1\n",
    "\n",
    "Project description: \n",
    "- Read data into Jupyter notebook, use pandas to import data into a data frame\n",
    "- preprocess data: explore data, address missing data, categorical data, if there is any, and data scaling. Justify the type of scaling used in this project. \n",
    "- train your dataset using all the linear regression models you've learned so far. If your model has a scaling parameter(s) use Grid Search to find the best scaling parameter. Use plots and graphs to help you get a better glimpse of the results. \n",
    "- Then use cross validation to find average training and testing score. \n",
    "- Your submission should have at least the following regression models: KNN repressor, linear regression, Ridge, Lasso, polynomial regression, SVM both simple and with kernels. \n",
    "- Finally find the best repressor for this dataset and train your model on the entire dataset using the best parameters and predict the market price for the test_set.\n",
    "- submit IPython notebook. Use markdown to provide an inline report for this project."
   ]
  },
  {
   "cell_type": "markdown",
   "metadata": {},
   "source": [
    "##### <font color = 'red'> Important note: All the group members should participate in completing this project.  This includes coding, preparing report and testing the models. "
   ]
  },
  {
   "cell_type": "code",
   "execution_count": 1,
   "metadata": {
    "collapsed": true
   },
   "outputs": [],
   "source": [
    "import pandas as pd\n",
    "import numpy as np\n",
    "data = pd.read_csv('bitcoin_dataset(1).csv')\n",
    "test = pd.read_csv('test_set(1).csv')"
   ]
  },
  {
   "cell_type": "code",
   "execution_count": null,
   "metadata": {
    "collapsed": true
   },
   "outputs": [],
   "source": [
    "#transform test data same like training data check if it has missing values\n",
    "#change all int to float then impute\n",
    "#then subset the data(the columns)"
   ]
  },
  {
   "cell_type": "code",
   "execution_count": 2,
   "metadata": {},
   "outputs": [
    {
     "data": {
      "text/html": [
       "<div>\n",
       "<style>\n",
       "    .dataframe thead tr:only-child th {\n",
       "        text-align: right;\n",
       "    }\n",
       "\n",
       "    .dataframe thead th {\n",
       "        text-align: left;\n",
       "    }\n",
       "\n",
       "    .dataframe tbody tr th {\n",
       "        vertical-align: top;\n",
       "    }\n",
       "</style>\n",
       "<table border=\"1\" class=\"dataframe\">\n",
       "  <thead>\n",
       "    <tr style=\"text-align: right;\">\n",
       "      <th></th>\n",
       "      <th>Date</th>\n",
       "      <th>btc_market_price</th>\n",
       "      <th>btc_total_bitcoins</th>\n",
       "      <th>btc_market_cap</th>\n",
       "      <th>btc_trade_volume</th>\n",
       "      <th>btc_blocks_size</th>\n",
       "      <th>btc_avg_block_size</th>\n",
       "      <th>btc_n_orphaned_blocks</th>\n",
       "      <th>btc_n_transactions_per_block</th>\n",
       "      <th>btc_median_confirmation_time</th>\n",
       "      <th>...</th>\n",
       "      <th>btc_cost_per_transaction_percent</th>\n",
       "      <th>btc_cost_per_transaction</th>\n",
       "      <th>btc_n_unique_addresses</th>\n",
       "      <th>btc_n_transactions</th>\n",
       "      <th>btc_n_transactions_total</th>\n",
       "      <th>btc_n_transactions_excluding_popular</th>\n",
       "      <th>btc_n_transactions_excluding_chains_longer_than_100</th>\n",
       "      <th>btc_output_volume</th>\n",
       "      <th>btc_estimated_transaction_volume</th>\n",
       "      <th>btc_estimated_transaction_volume_usd</th>\n",
       "    </tr>\n",
       "  </thead>\n",
       "  <tbody>\n",
       "    <tr>\n",
       "      <th>0</th>\n",
       "      <td>2/17/2010 0:00</td>\n",
       "      <td>0.0</td>\n",
       "      <td>2043200.0</td>\n",
       "      <td>0.0</td>\n",
       "      <td>0.0</td>\n",
       "      <td>0.0</td>\n",
       "      <td>0.000235</td>\n",
       "      <td>0</td>\n",
       "      <td>1.0</td>\n",
       "      <td>0.0</td>\n",
       "      <td>...</td>\n",
       "      <td>31.781022</td>\n",
       "      <td>0.0</td>\n",
       "      <td>241</td>\n",
       "      <td>244</td>\n",
       "      <td>41240</td>\n",
       "      <td>244</td>\n",
       "      <td>244</td>\n",
       "      <td>65173.13</td>\n",
       "      <td>36500.0</td>\n",
       "      <td>0.0</td>\n",
       "    </tr>\n",
       "    <tr>\n",
       "      <th>1</th>\n",
       "      <td>2/18/2010 0:00</td>\n",
       "      <td>0.0</td>\n",
       "      <td>2054650.0</td>\n",
       "      <td>0.0</td>\n",
       "      <td>0.0</td>\n",
       "      <td>0.0</td>\n",
       "      <td>0.000241</td>\n",
       "      <td>0</td>\n",
       "      <td>1.0</td>\n",
       "      <td>0.0</td>\n",
       "      <td>...</td>\n",
       "      <td>154.463801</td>\n",
       "      <td>0.0</td>\n",
       "      <td>234</td>\n",
       "      <td>235</td>\n",
       "      <td>41475</td>\n",
       "      <td>235</td>\n",
       "      <td>235</td>\n",
       "      <td>18911.74</td>\n",
       "      <td>7413.0</td>\n",
       "      <td>0.0</td>\n",
       "    </tr>\n",
       "    <tr>\n",
       "      <th>2</th>\n",
       "      <td>2/19/2010 0:00</td>\n",
       "      <td>0.0</td>\n",
       "      <td>2063600.0</td>\n",
       "      <td>0.0</td>\n",
       "      <td>0.0</td>\n",
       "      <td>0.0</td>\n",
       "      <td>0.000228</td>\n",
       "      <td>0</td>\n",
       "      <td>1.0</td>\n",
       "      <td>0.0</td>\n",
       "      <td>...</td>\n",
       "      <td>1278.516635</td>\n",
       "      <td>0.0</td>\n",
       "      <td>185</td>\n",
       "      <td>183</td>\n",
       "      <td>41658</td>\n",
       "      <td>183</td>\n",
       "      <td>183</td>\n",
       "      <td>9749.98</td>\n",
       "      <td>700.0</td>\n",
       "      <td>0.0</td>\n",
       "    </tr>\n",
       "    <tr>\n",
       "      <th>3</th>\n",
       "      <td>2/20/2010 0:00</td>\n",
       "      <td>0.0</td>\n",
       "      <td>2074700.0</td>\n",
       "      <td>0.0</td>\n",
       "      <td>0.0</td>\n",
       "      <td>0.0</td>\n",
       "      <td>0.000218</td>\n",
       "      <td>0</td>\n",
       "      <td>1.0</td>\n",
       "      <td>0.0</td>\n",
       "      <td>...</td>\n",
       "      <td>22186.687990</td>\n",
       "      <td>0.0</td>\n",
       "      <td>224</td>\n",
       "      <td>224</td>\n",
       "      <td>41882</td>\n",
       "      <td>224</td>\n",
       "      <td>224</td>\n",
       "      <td>11150.03</td>\n",
       "      <td>50.0</td>\n",
       "      <td>0.0</td>\n",
       "    </tr>\n",
       "    <tr>\n",
       "      <th>4</th>\n",
       "      <td>2/21/2010 0:00</td>\n",
       "      <td>0.0</td>\n",
       "      <td>2085400.0</td>\n",
       "      <td>0.0</td>\n",
       "      <td>0.0</td>\n",
       "      <td>0.0</td>\n",
       "      <td>0.000234</td>\n",
       "      <td>0</td>\n",
       "      <td>1.0</td>\n",
       "      <td>0.0</td>\n",
       "      <td>...</td>\n",
       "      <td>689.179876</td>\n",
       "      <td>0.0</td>\n",
       "      <td>218</td>\n",
       "      <td>218</td>\n",
       "      <td>42100</td>\n",
       "      <td>218</td>\n",
       "      <td>218</td>\n",
       "      <td>12266.83</td>\n",
       "      <td>1553.0</td>\n",
       "      <td>0.0</td>\n",
       "    </tr>\n",
       "  </tbody>\n",
       "</table>\n",
       "<p>5 rows × 24 columns</p>\n",
       "</div>"
      ],
      "text/plain": [
       "             Date  btc_market_price  btc_total_bitcoins  btc_market_cap  \\\n",
       "0  2/17/2010 0:00               0.0           2043200.0             0.0   \n",
       "1  2/18/2010 0:00               0.0           2054650.0             0.0   \n",
       "2  2/19/2010 0:00               0.0           2063600.0             0.0   \n",
       "3  2/20/2010 0:00               0.0           2074700.0             0.0   \n",
       "4  2/21/2010 0:00               0.0           2085400.0             0.0   \n",
       "\n",
       "   btc_trade_volume  btc_blocks_size  btc_avg_block_size  \\\n",
       "0               0.0              0.0            0.000235   \n",
       "1               0.0              0.0            0.000241   \n",
       "2               0.0              0.0            0.000228   \n",
       "3               0.0              0.0            0.000218   \n",
       "4               0.0              0.0            0.000234   \n",
       "\n",
       "   btc_n_orphaned_blocks  btc_n_transactions_per_block  \\\n",
       "0                      0                           1.0   \n",
       "1                      0                           1.0   \n",
       "2                      0                           1.0   \n",
       "3                      0                           1.0   \n",
       "4                      0                           1.0   \n",
       "\n",
       "   btc_median_confirmation_time                  ...                   \\\n",
       "0                           0.0                  ...                    \n",
       "1                           0.0                  ...                    \n",
       "2                           0.0                  ...                    \n",
       "3                           0.0                  ...                    \n",
       "4                           0.0                  ...                    \n",
       "\n",
       "   btc_cost_per_transaction_percent  btc_cost_per_transaction  \\\n",
       "0                         31.781022                       0.0   \n",
       "1                        154.463801                       0.0   \n",
       "2                       1278.516635                       0.0   \n",
       "3                      22186.687990                       0.0   \n",
       "4                        689.179876                       0.0   \n",
       "\n",
       "   btc_n_unique_addresses  btc_n_transactions  btc_n_transactions_total  \\\n",
       "0                     241                 244                     41240   \n",
       "1                     234                 235                     41475   \n",
       "2                     185                 183                     41658   \n",
       "3                     224                 224                     41882   \n",
       "4                     218                 218                     42100   \n",
       "\n",
       "   btc_n_transactions_excluding_popular  \\\n",
       "0                                   244   \n",
       "1                                   235   \n",
       "2                                   183   \n",
       "3                                   224   \n",
       "4                                   218   \n",
       "\n",
       "   btc_n_transactions_excluding_chains_longer_than_100  btc_output_volume  \\\n",
       "0                                                244             65173.13   \n",
       "1                                                235             18911.74   \n",
       "2                                                183              9749.98   \n",
       "3                                                224             11150.03   \n",
       "4                                                218             12266.83   \n",
       "\n",
       "   btc_estimated_transaction_volume  btc_estimated_transaction_volume_usd  \n",
       "0                           36500.0                                   0.0  \n",
       "1                            7413.0                                   0.0  \n",
       "2                             700.0                                   0.0  \n",
       "3                              50.0                                   0.0  \n",
       "4                            1553.0                                   0.0  \n",
       "\n",
       "[5 rows x 24 columns]"
      ]
     },
     "execution_count": 2,
     "metadata": {},
     "output_type": "execute_result"
    }
   ],
   "source": [
    "data.head()"
   ]
  },
  {
   "cell_type": "code",
   "execution_count": 3,
   "metadata": {},
   "outputs": [
    {
     "data": {
      "text/plain": [
       "(2906, 24)"
      ]
     },
     "execution_count": 3,
     "metadata": {},
     "output_type": "execute_result"
    }
   ],
   "source": [
    "data.shape"
   ]
  },
  {
   "cell_type": "code",
   "execution_count": 5,
   "metadata": {},
   "outputs": [
    {
     "data": {
      "text/html": [
       "<div>\n",
       "<style>\n",
       "    .dataframe thead tr:only-child th {\n",
       "        text-align: right;\n",
       "    }\n",
       "\n",
       "    .dataframe thead th {\n",
       "        text-align: left;\n",
       "    }\n",
       "\n",
       "    .dataframe tbody tr th {\n",
       "        vertical-align: top;\n",
       "    }\n",
       "</style>\n",
       "<table border=\"1\" class=\"dataframe\">\n",
       "  <thead>\n",
       "    <tr style=\"text-align: right;\">\n",
       "      <th></th>\n",
       "      <th>btc_market_price</th>\n",
       "      <th>btc_total_bitcoins</th>\n",
       "      <th>btc_market_cap</th>\n",
       "      <th>btc_trade_volume</th>\n",
       "      <th>btc_blocks_size</th>\n",
       "      <th>btc_avg_block_size</th>\n",
       "      <th>btc_n_orphaned_blocks</th>\n",
       "      <th>btc_n_transactions_per_block</th>\n",
       "      <th>btc_median_confirmation_time</th>\n",
       "      <th>btc_hash_rate</th>\n",
       "      <th>...</th>\n",
       "      <th>btc_cost_per_transaction_percent</th>\n",
       "      <th>btc_cost_per_transaction</th>\n",
       "      <th>btc_n_unique_addresses</th>\n",
       "      <th>btc_n_transactions</th>\n",
       "      <th>btc_n_transactions_total</th>\n",
       "      <th>btc_n_transactions_excluding_popular</th>\n",
       "      <th>btc_n_transactions_excluding_chains_longer_than_100</th>\n",
       "      <th>btc_output_volume</th>\n",
       "      <th>btc_estimated_transaction_volume</th>\n",
       "      <th>btc_estimated_transaction_volume_usd</th>\n",
       "    </tr>\n",
       "  </thead>\n",
       "  <tbody>\n",
       "    <tr>\n",
       "      <th>count</th>\n",
       "      <td>2906.000000</td>\n",
       "      <td>2.879000e+03</td>\n",
       "      <td>2.906000e+03</td>\n",
       "      <td>2.885000e+03</td>\n",
       "      <td>2877.000000</td>\n",
       "      <td>2906.000000</td>\n",
       "      <td>2906.000000</td>\n",
       "      <td>2906.000000</td>\n",
       "      <td>2894.000000</td>\n",
       "      <td>2.906000e+03</td>\n",
       "      <td>...</td>\n",
       "      <td>2906.000000</td>\n",
       "      <td>2906.000000</td>\n",
       "      <td>2.906000e+03</td>\n",
       "      <td>2906.000000</td>\n",
       "      <td>2.906000e+03</td>\n",
       "      <td>2906.000000</td>\n",
       "      <td>2906.000000</td>\n",
       "      <td>2.906000e+03</td>\n",
       "      <td>2.906000e+03</td>\n",
       "      <td>2.906000e+03</td>\n",
       "    </tr>\n",
       "    <tr>\n",
       "      <th>mean</th>\n",
       "      <td>839.104218</td>\n",
       "      <td>1.151138e+07</td>\n",
       "      <td>1.344255e+10</td>\n",
       "      <td>7.398381e+07</td>\n",
       "      <td>35505.502848</td>\n",
       "      <td>0.350366</td>\n",
       "      <td>0.364074</td>\n",
       "      <td>671.673651</td>\n",
       "      <td>7.501113</td>\n",
       "      <td>1.244070e+06</td>\n",
       "      <td>...</td>\n",
       "      <td>66.747821</td>\n",
       "      <td>14.639125</td>\n",
       "      <td>1.937861e+05</td>\n",
       "      <td>102081.138334</td>\n",
       "      <td>6.844558e+07</td>\n",
       "      <td>94348.852374</td>\n",
       "      <td>63140.320028</td>\n",
       "      <td>1.566216e+06</td>\n",
       "      <td>2.036475e+05</td>\n",
       "      <td>2.024338e+08</td>\n",
       "    </tr>\n",
       "    <tr>\n",
       "      <th>std</th>\n",
       "      <td>2304.972497</td>\n",
       "      <td>4.200024e+06</td>\n",
       "      <td>3.866150e+10</td>\n",
       "      <td>2.924228e+08</td>\n",
       "      <td>43618.633821</td>\n",
       "      <td>0.353168</td>\n",
       "      <td>0.842259</td>\n",
       "      <td>689.561322</td>\n",
       "      <td>4.974549</td>\n",
       "      <td>2.924141e+06</td>\n",
       "      <td>...</td>\n",
       "      <td>1761.894646</td>\n",
       "      <td>20.536083</td>\n",
       "      <td>2.089146e+05</td>\n",
       "      <td>103896.929350</td>\n",
       "      <td>8.285341e+07</td>\n",
       "      <td>103966.111763</td>\n",
       "      <td>69687.052174</td>\n",
       "      <td>2.278910e+06</td>\n",
       "      <td>2.682781e+05</td>\n",
       "      <td>5.800513e+08</td>\n",
       "    </tr>\n",
       "    <tr>\n",
       "      <th>min</th>\n",
       "      <td>0.000000</td>\n",
       "      <td>2.043200e+06</td>\n",
       "      <td>0.000000e+00</td>\n",
       "      <td>0.000000e+00</td>\n",
       "      <td>0.000000</td>\n",
       "      <td>0.000216</td>\n",
       "      <td>0.000000</td>\n",
       "      <td>1.000000</td>\n",
       "      <td>0.000000</td>\n",
       "      <td>2.250000e-05</td>\n",
       "      <td>...</td>\n",
       "      <td>0.136531</td>\n",
       "      <td>0.000000</td>\n",
       "      <td>1.100000e+02</td>\n",
       "      <td>118.000000</td>\n",
       "      <td>4.124000e+04</td>\n",
       "      <td>118.000000</td>\n",
       "      <td>118.000000</td>\n",
       "      <td>6.150000e+03</td>\n",
       "      <td>7.000000e+00</td>\n",
       "      <td>0.000000e+00</td>\n",
       "    </tr>\n",
       "    <tr>\n",
       "      <th>25%</th>\n",
       "      <td>6.653465</td>\n",
       "      <td>8.485300e+06</td>\n",
       "      <td>5.363081e+07</td>\n",
       "      <td>2.916456e+05</td>\n",
       "      <td>781.000000</td>\n",
       "      <td>0.024177</td>\n",
       "      <td>0.000000</td>\n",
       "      <td>54.000000</td>\n",
       "      <td>6.066667</td>\n",
       "      <td>1.160880e+01</td>\n",
       "      <td>...</td>\n",
       "      <td>1.181945</td>\n",
       "      <td>4.156470</td>\n",
       "      <td>1.675475e+04</td>\n",
       "      <td>8025.250000</td>\n",
       "      <td>2.413376e+06</td>\n",
       "      <td>6813.500000</td>\n",
       "      <td>6765.500000</td>\n",
       "      <td>4.901712e+05</td>\n",
       "      <td>9.600325e+04</td>\n",
       "      <td>9.581680e+05</td>\n",
       "    </tr>\n",
       "    <tr>\n",
       "      <th>50%</th>\n",
       "      <td>235.130000</td>\n",
       "      <td>1.243115e+07</td>\n",
       "      <td>3.346869e+09</td>\n",
       "      <td>1.001414e+07</td>\n",
       "      <td>15183.000000</td>\n",
       "      <td>0.196022</td>\n",
       "      <td>0.000000</td>\n",
       "      <td>375.000000</td>\n",
       "      <td>7.916667</td>\n",
       "      <td>2.176189e+04</td>\n",
       "      <td>...</td>\n",
       "      <td>2.493564</td>\n",
       "      <td>7.822430</td>\n",
       "      <td>1.304450e+05</td>\n",
       "      <td>62337.000000</td>\n",
       "      <td>3.255271e+07</td>\n",
       "      <td>53483.000000</td>\n",
       "      <td>35283.500000</td>\n",
       "      <td>1.105205e+06</td>\n",
       "      <td>1.784685e+05</td>\n",
       "      <td>3.742576e+07</td>\n",
       "    </tr>\n",
       "    <tr>\n",
       "      <th>75%</th>\n",
       "      <td>594.191164</td>\n",
       "      <td>1.520051e+07</td>\n",
       "      <td>8.075525e+09</td>\n",
       "      <td>2.834038e+07</td>\n",
       "      <td>58293.000000</td>\n",
       "      <td>0.676065</td>\n",
       "      <td>0.000000</td>\n",
       "      <td>1232.995223</td>\n",
       "      <td>10.208333</td>\n",
       "      <td>1.035363e+06</td>\n",
       "      <td>...</td>\n",
       "      <td>5.915591</td>\n",
       "      <td>14.800589</td>\n",
       "      <td>3.603765e+05</td>\n",
       "      <td>190471.250000</td>\n",
       "      <td>1.080663e+08</td>\n",
       "      <td>185901.750000</td>\n",
       "      <td>113793.250000</td>\n",
       "      <td>2.031654e+06</td>\n",
       "      <td>2.588046e+05</td>\n",
       "      <td>1.312499e+08</td>\n",
       "    </tr>\n",
       "    <tr>\n",
       "      <th>max</th>\n",
       "      <td>19498.683330</td>\n",
       "      <td>1.683769e+07</td>\n",
       "      <td>3.265250e+11</td>\n",
       "      <td>5.352016e+09</td>\n",
       "      <td>154444.590300</td>\n",
       "      <td>1.110327</td>\n",
       "      <td>7.000000</td>\n",
       "      <td>2722.625000</td>\n",
       "      <td>47.733333</td>\n",
       "      <td>2.160975e+07</td>\n",
       "      <td>...</td>\n",
       "      <td>88571.428570</td>\n",
       "      <td>161.686071</td>\n",
       "      <td>1.072861e+06</td>\n",
       "      <td>490644.000000</td>\n",
       "      <td>2.966888e+08</td>\n",
       "      <td>470650.000000</td>\n",
       "      <td>318896.000000</td>\n",
       "      <td>4.599222e+07</td>\n",
       "      <td>5.825066e+06</td>\n",
       "      <td>5.760245e+09</td>\n",
       "    </tr>\n",
       "  </tbody>\n",
       "</table>\n",
       "<p>8 rows × 23 columns</p>\n",
       "</div>"
      ],
      "text/plain": [
       "       btc_market_price  btc_total_bitcoins  btc_market_cap  btc_trade_volume  \\\n",
       "count       2906.000000        2.879000e+03    2.906000e+03      2.885000e+03   \n",
       "mean         839.104218        1.151138e+07    1.344255e+10      7.398381e+07   \n",
       "std         2304.972497        4.200024e+06    3.866150e+10      2.924228e+08   \n",
       "min            0.000000        2.043200e+06    0.000000e+00      0.000000e+00   \n",
       "25%            6.653465        8.485300e+06    5.363081e+07      2.916456e+05   \n",
       "50%          235.130000        1.243115e+07    3.346869e+09      1.001414e+07   \n",
       "75%          594.191164        1.520051e+07    8.075525e+09      2.834038e+07   \n",
       "max        19498.683330        1.683769e+07    3.265250e+11      5.352016e+09   \n",
       "\n",
       "       btc_blocks_size  btc_avg_block_size  btc_n_orphaned_blocks  \\\n",
       "count      2877.000000         2906.000000            2906.000000   \n",
       "mean      35505.502848            0.350366               0.364074   \n",
       "std       43618.633821            0.353168               0.842259   \n",
       "min           0.000000            0.000216               0.000000   \n",
       "25%         781.000000            0.024177               0.000000   \n",
       "50%       15183.000000            0.196022               0.000000   \n",
       "75%       58293.000000            0.676065               0.000000   \n",
       "max      154444.590300            1.110327               7.000000   \n",
       "\n",
       "       btc_n_transactions_per_block  btc_median_confirmation_time  \\\n",
       "count                   2906.000000                   2894.000000   \n",
       "mean                     671.673651                      7.501113   \n",
       "std                      689.561322                      4.974549   \n",
       "min                        1.000000                      0.000000   \n",
       "25%                       54.000000                      6.066667   \n",
       "50%                      375.000000                      7.916667   \n",
       "75%                     1232.995223                     10.208333   \n",
       "max                     2722.625000                     47.733333   \n",
       "\n",
       "       btc_hash_rate                  ...                   \\\n",
       "count   2.906000e+03                  ...                    \n",
       "mean    1.244070e+06                  ...                    \n",
       "std     2.924141e+06                  ...                    \n",
       "min     2.250000e-05                  ...                    \n",
       "25%     1.160880e+01                  ...                    \n",
       "50%     2.176189e+04                  ...                    \n",
       "75%     1.035363e+06                  ...                    \n",
       "max     2.160975e+07                  ...                    \n",
       "\n",
       "       btc_cost_per_transaction_percent  btc_cost_per_transaction  \\\n",
       "count                       2906.000000               2906.000000   \n",
       "mean                          66.747821                 14.639125   \n",
       "std                         1761.894646                 20.536083   \n",
       "min                            0.136531                  0.000000   \n",
       "25%                            1.181945                  4.156470   \n",
       "50%                            2.493564                  7.822430   \n",
       "75%                            5.915591                 14.800589   \n",
       "max                        88571.428570                161.686071   \n",
       "\n",
       "       btc_n_unique_addresses  btc_n_transactions  btc_n_transactions_total  \\\n",
       "count            2.906000e+03         2906.000000              2.906000e+03   \n",
       "mean             1.937861e+05       102081.138334              6.844558e+07   \n",
       "std              2.089146e+05       103896.929350              8.285341e+07   \n",
       "min              1.100000e+02          118.000000              4.124000e+04   \n",
       "25%              1.675475e+04         8025.250000              2.413376e+06   \n",
       "50%              1.304450e+05        62337.000000              3.255271e+07   \n",
       "75%              3.603765e+05       190471.250000              1.080663e+08   \n",
       "max              1.072861e+06       490644.000000              2.966888e+08   \n",
       "\n",
       "       btc_n_transactions_excluding_popular  \\\n",
       "count                           2906.000000   \n",
       "mean                           94348.852374   \n",
       "std                           103966.111763   \n",
       "min                              118.000000   \n",
       "25%                             6813.500000   \n",
       "50%                            53483.000000   \n",
       "75%                           185901.750000   \n",
       "max                           470650.000000   \n",
       "\n",
       "       btc_n_transactions_excluding_chains_longer_than_100  btc_output_volume  \\\n",
       "count                                        2906.000000         2.906000e+03   \n",
       "mean                                        63140.320028         1.566216e+06   \n",
       "std                                         69687.052174         2.278910e+06   \n",
       "min                                           118.000000         6.150000e+03   \n",
       "25%                                          6765.500000         4.901712e+05   \n",
       "50%                                         35283.500000         1.105205e+06   \n",
       "75%                                        113793.250000         2.031654e+06   \n",
       "max                                        318896.000000         4.599222e+07   \n",
       "\n",
       "       btc_estimated_transaction_volume  btc_estimated_transaction_volume_usd  \n",
       "count                      2.906000e+03                          2.906000e+03  \n",
       "mean                       2.036475e+05                          2.024338e+08  \n",
       "std                        2.682781e+05                          5.800513e+08  \n",
       "min                        7.000000e+00                          0.000000e+00  \n",
       "25%                        9.600325e+04                          9.581680e+05  \n",
       "50%                        1.784685e+05                          3.742576e+07  \n",
       "75%                        2.588046e+05                          1.312499e+08  \n",
       "max                        5.825066e+06                          5.760245e+09  \n",
       "\n",
       "[8 rows x 23 columns]"
      ]
     },
     "execution_count": 5,
     "metadata": {},
     "output_type": "execute_result"
    }
   ],
   "source": [
    "data.describe()"
   ]
  },
  {
   "cell_type": "markdown",
   "metadata": {},
   "source": [
    "### Checking VIF to identify highly correlated variables "
   ]
  },
  {
   "cell_type": "code",
   "execution_count": 6,
   "metadata": {},
   "outputs": [
    {
     "name": "stderr",
     "output_type": "stream",
     "text": [
      "C:\\Users\\Arthi\\Anaconda3\\lib\\site-packages\\statsmodels\\compat\\pandas.py:56: FutureWarning: The pandas.core.datetools module is deprecated and will be removed in a future version. Please use the pandas.tseries module instead.\n",
      "  from pandas.core import datetools\n",
      "C:\\Users\\Arthi\\Anaconda3\\lib\\site-packages\\statsmodels\\regression\\linear_model.py:1386: RuntimeWarning: divide by zero encountered in double_scalars\n",
      "  return 1 - self.ssr/self.centered_tss\n"
     ]
    },
    {
     "data": {
      "text/plain": [
       "[0.0,\n",
       " 12.899254840596553,\n",
       " 276.72767524083724,\n",
       " 6.1084221783489259,\n",
       " 8508.0782762872368,\n",
       " 53.136325094278199,\n",
       " 1.353222896147438,\n",
       " 50.332041329553064,\n",
       " 2.558553402631679,\n",
       " 159.03226881421841,\n",
       " 235.19907347980742,\n",
       " 261.78805150606968,\n",
       " 8.5851154709360031,\n",
       " 1.0137430565345276,\n",
       " 12.318084725815243,\n",
       " 94.711891253914516,\n",
       " 212.52608269207875,\n",
       " 8533.1020688334811,\n",
       " 127.26620737697223,\n",
       " 100.65353805164638,\n",
       " 1.2923378255392923,\n",
       " 1.1474282235086728,\n",
       " 27.101259545661126]"
      ]
     },
     "execution_count": 6,
     "metadata": {},
     "output_type": "execute_result"
    }
   ],
   "source": [
    "#Analyzing collinerity between independent variables\n",
    "from patsy import dmatrices\n",
    "from statsmodels.stats.outliers_influence import variance_inflation_factor\n",
    "import statsmodels.api as sm\n",
    "\n",
    "# Break into left and right hand side; y and X\n",
    "y, X = dmatrices(\"btc_market_price ~ btc_total_bitcoins + btc_market_cap + btc_trade_volume + btc_blocks_size + btc_avg_block_size + btc_n_orphaned_blocks + btc_n_transactions_per_block + btc_median_confirmation_time + btc_hash_rate + btc_difficulty + btc_miners_revenue + btc_transaction_fees + btc_cost_per_transaction_percent + btc_cost_per_transaction + btc_n_unique_addresses + btc_n_transactions + btc_n_transactions_total + btc_n_transactions_excluding_popular + btc_n_transactions_excluding_chains_longer_than_100 + btc_output_volume + btc_estimated_transaction_volume + btc_estimated_transaction_volume_usd \", data=data, return_type=\"dataframe\")\n",
    "\n",
    "# For each Xi, calculate VIF, X.shape gives columns and rows so index 1 gets the number of rows\n",
    "vif1 = [variance_inflation_factor(X.values, i) for i in range(X.shape[1])]\n",
    "vif1\n"
   ]
  },
  {
   "cell_type": "code",
   "execution_count": 7,
   "metadata": {},
   "outputs": [
    {
     "data": {
      "text/plain": [
       "array(['btc_total_bitcoins', 'btc_market_cap', 'btc_trade_volume',\n",
       "       'btc_blocks_size', 'btc_avg_block_size', 'btc_n_orphaned_blocks',\n",
       "       'btc_n_transactions_per_block', 'btc_median_confirmation_time',\n",
       "       'btc_hash_rate', 'btc_difficulty', 'btc_miners_revenue',\n",
       "       'btc_transaction_fees', 'btc_cost_per_transaction_percent',\n",
       "       'btc_cost_per_transaction', 'btc_n_unique_addresses',\n",
       "       'btc_n_transactions', 'btc_n_transactions_total',\n",
       "       'btc_n_transactions_excluding_popular',\n",
       "       'btc_n_transactions_excluding_chains_longer_than_100',\n",
       "       'btc_output_volume', 'btc_estimated_transaction_volume',\n",
       "       'btc_estimated_transaction_volume_usd'], dtype=object)"
      ]
     },
     "execution_count": 7,
     "metadata": {},
     "output_type": "execute_result"
    }
   ],
   "source": [
    "test.head()\n",
    "test.drop(\"Date\",axis=1,inplace=True)\n",
    "sub_col=test.columns.values\n",
    "sub_col"
   ]
  },
  {
   "cell_type": "code",
   "execution_count": 8,
   "metadata": {},
   "outputs": [
    {
     "name": "stdout",
     "output_type": "stream",
     "text": [
      "<class 'pandas.core.frame.DataFrame'>\n",
      "RangeIndex: 14 entries, 0 to 13\n",
      "Data columns (total 22 columns):\n",
      "btc_total_bitcoins                                     14 non-null float64\n",
      "btc_market_cap                                         14 non-null float64\n",
      "btc_trade_volume                                       14 non-null float64\n",
      "btc_blocks_size                                        14 non-null float64\n",
      "btc_avg_block_size                                     14 non-null float64\n",
      "btc_n_orphaned_blocks                                  14 non-null int64\n",
      "btc_n_transactions_per_block                           14 non-null float64\n",
      "btc_median_confirmation_time                           14 non-null float64\n",
      "btc_hash_rate                                          14 non-null float64\n",
      "btc_difficulty                                         14 non-null float64\n",
      "btc_miners_revenue                                     14 non-null float64\n",
      "btc_transaction_fees                                   14 non-null float64\n",
      "btc_cost_per_transaction_percent                       14 non-null float64\n",
      "btc_cost_per_transaction                               14 non-null float64\n",
      "btc_n_unique_addresses                                 14 non-null int64\n",
      "btc_n_transactions                                     14 non-null int64\n",
      "btc_n_transactions_total                               14 non-null int64\n",
      "btc_n_transactions_excluding_popular                   14 non-null int64\n",
      "btc_n_transactions_excluding_chains_longer_than_100    14 non-null int64\n",
      "btc_output_volume                                      14 non-null float64\n",
      "btc_estimated_transaction_volume                       14 non-null float64\n",
      "btc_estimated_transaction_volume_usd                   14 non-null float64\n",
      "dtypes: float64(16), int64(6)\n",
      "memory usage: 2.5 KB\n"
     ]
    },
    {
     "data": {
      "text/plain": [
       "(14, 22)"
      ]
     },
     "execution_count": 8,
     "metadata": {},
     "output_type": "execute_result"
    }
   ],
   "source": [
    "test.info()\n",
    "test.shape\n",
    "# test data has no null"
   ]
  },
  {
   "cell_type": "code",
   "execution_count": 9,
   "metadata": {},
   "outputs": [
    {
     "name": "stdout",
     "output_type": "stream",
     "text": [
      "<class 'pandas.core.frame.DataFrame'>\n",
      "RangeIndex: 2906 entries, 0 to 2905\n",
      "Data columns (total 24 columns):\n",
      "Date                                                   2906 non-null object\n",
      "btc_market_price                                       2906 non-null float64\n",
      "btc_total_bitcoins                                     2879 non-null float64\n",
      "btc_market_cap                                         2906 non-null float64\n",
      "btc_trade_volume                                       2885 non-null float64\n",
      "btc_blocks_size                                        2877 non-null float64\n",
      "btc_avg_block_size                                     2906 non-null float64\n",
      "btc_n_orphaned_blocks                                  2906 non-null int64\n",
      "btc_n_transactions_per_block                           2906 non-null float64\n",
      "btc_median_confirmation_time                           2894 non-null float64\n",
      "btc_hash_rate                                          2906 non-null float64\n",
      "btc_difficulty                                         2890 non-null float64\n",
      "btc_miners_revenue                                     2906 non-null float64\n",
      "btc_transaction_fees                                   2896 non-null float64\n",
      "btc_cost_per_transaction_percent                       2906 non-null float64\n",
      "btc_cost_per_transaction                               2906 non-null float64\n",
      "btc_n_unique_addresses                                 2906 non-null int64\n",
      "btc_n_transactions                                     2906 non-null int64\n",
      "btc_n_transactions_total                               2906 non-null int64\n",
      "btc_n_transactions_excluding_popular                   2906 non-null int64\n",
      "btc_n_transactions_excluding_chains_longer_than_100    2906 non-null int64\n",
      "btc_output_volume                                      2906 non-null float64\n",
      "btc_estimated_transaction_volume                       2906 non-null float64\n",
      "btc_estimated_transaction_volume_usd                   2906 non-null float64\n",
      "dtypes: float64(17), int64(6), object(1)\n",
      "memory usage: 545.0+ KB\n"
     ]
    }
   ],
   "source": [
    "data.info()"
   ]
  },
  {
   "cell_type": "code",
   "execution_count": 10,
   "metadata": {},
   "outputs": [
    {
     "name": "stdout",
     "output_type": "stream",
     "text": [
      "<class 'pandas.core.frame.DataFrame'>\n",
      "RangeIndex: 2906 entries, 0 to 2905\n",
      "Data columns (total 23 columns):\n",
      "btc_market_price                                       2906 non-null float64\n",
      "btc_total_bitcoins                                     2879 non-null float64\n",
      "btc_market_cap                                         2906 non-null float64\n",
      "btc_trade_volume                                       2885 non-null float64\n",
      "btc_blocks_size                                        2877 non-null float64\n",
      "btc_avg_block_size                                     2906 non-null float64\n",
      "btc_n_orphaned_blocks                                  2906 non-null float64\n",
      "btc_n_transactions_per_block                           2906 non-null float64\n",
      "btc_median_confirmation_time                           2894 non-null float64\n",
      "btc_hash_rate                                          2906 non-null float64\n",
      "btc_difficulty                                         2890 non-null float64\n",
      "btc_miners_revenue                                     2906 non-null float64\n",
      "btc_transaction_fees                                   2896 non-null float64\n",
      "btc_cost_per_transaction_percent                       2906 non-null float64\n",
      "btc_cost_per_transaction                               2906 non-null float64\n",
      "btc_n_unique_addresses                                 2906 non-null float64\n",
      "btc_n_transactions                                     2906 non-null float64\n",
      "btc_n_transactions_total                               2906 non-null float64\n",
      "btc_n_transactions_excluding_popular                   2906 non-null float64\n",
      "btc_n_transactions_excluding_chains_longer_than_100    2906 non-null float64\n",
      "btc_output_volume                                      2906 non-null float64\n",
      "btc_estimated_transaction_volume                       2906 non-null float64\n",
      "btc_estimated_transaction_volume_usd                   2906 non-null float64\n",
      "dtypes: float64(23)\n",
      "memory usage: 522.2 KB\n"
     ]
    }
   ],
   "source": [
    "data.drop(\"Date\",axis=1,inplace=True)\n",
    "\n",
    "data_num=data.astype(float)\n",
    "data_num.info()\n",
    "data=data_num\n"
   ]
  },
  {
   "cell_type": "markdown",
   "metadata": {},
   "source": [
    "### Missing Value Treatment"
   ]
  },
  {
   "cell_type": "code",
   "execution_count": 11,
   "metadata": {},
   "outputs": [
    {
     "name": "stderr",
     "output_type": "stream",
     "text": [
      "Using TensorFlow backend.\n"
     ]
    },
    {
     "name": "stdout",
     "output_type": "stream",
     "text": [
      "Imputing row 1/2906 with 0 missing, elapsed time: 2.000\n",
      "Imputing row 101/2906 with 1 missing, elapsed time: 2.002\n",
      "Imputing row 201/2906 with 0 missing, elapsed time: 2.004\n",
      "Imputing row 301/2906 with 0 missing, elapsed time: 2.004\n",
      "Imputing row 401/2906 with 0 missing, elapsed time: 2.005\n",
      "Imputing row 501/2906 with 0 missing, elapsed time: 2.006\n",
      "Imputing row 601/2906 with 0 missing, elapsed time: 2.007\n",
      "Imputing row 701/2906 with 0 missing, elapsed time: 2.007\n",
      "Imputing row 801/2906 with 0 missing, elapsed time: 2.008\n",
      "Imputing row 901/2906 with 0 missing, elapsed time: 2.009\n",
      "Imputing row 1001/2906 with 0 missing, elapsed time: 2.009\n",
      "Imputing row 1101/2906 with 0 missing, elapsed time: 2.010\n",
      "Imputing row 1201/2906 with 0 missing, elapsed time: 2.010\n",
      "Imputing row 1301/2906 with 0 missing, elapsed time: 2.010\n",
      "Imputing row 1401/2906 with 0 missing, elapsed time: 2.011\n",
      "Imputing row 1501/2906 with 0 missing, elapsed time: 2.011\n",
      "Imputing row 1601/2906 with 0 missing, elapsed time: 2.012\n",
      "Imputing row 1701/2906 with 0 missing, elapsed time: 2.013\n",
      "Imputing row 1801/2906 with 0 missing, elapsed time: 2.015\n",
      "Imputing row 1901/2906 with 0 missing, elapsed time: 2.016\n",
      "Imputing row 2001/2906 with 0 missing, elapsed time: 2.017\n",
      "Imputing row 2101/2906 with 0 missing, elapsed time: 2.018\n",
      "Imputing row 2201/2906 with 0 missing, elapsed time: 2.019\n",
      "Imputing row 2301/2906 with 0 missing, elapsed time: 2.019\n",
      "Imputing row 2401/2906 with 0 missing, elapsed time: 2.020\n",
      "Imputing row 2501/2906 with 0 missing, elapsed time: 2.020\n",
      "Imputing row 2601/2906 with 0 missing, elapsed time: 2.021\n",
      "Imputing row 2701/2906 with 0 missing, elapsed time: 2.022\n",
      "Imputing row 2801/2906 with 0 missing, elapsed time: 2.023\n",
      "Imputing row 2901/2906 with 0 missing, elapsed time: 2.023\n"
     ]
    },
    {
     "data": {
      "text/html": [
       "<div>\n",
       "<style>\n",
       "    .dataframe thead tr:only-child th {\n",
       "        text-align: right;\n",
       "    }\n",
       "\n",
       "    .dataframe thead th {\n",
       "        text-align: left;\n",
       "    }\n",
       "\n",
       "    .dataframe tbody tr th {\n",
       "        vertical-align: top;\n",
       "    }\n",
       "</style>\n",
       "<table border=\"1\" class=\"dataframe\">\n",
       "  <thead>\n",
       "    <tr style=\"text-align: right;\">\n",
       "      <th></th>\n",
       "      <th>btc_market_price</th>\n",
       "      <th>btc_total_bitcoins</th>\n",
       "      <th>btc_market_cap</th>\n",
       "      <th>btc_trade_volume</th>\n",
       "      <th>btc_blocks_size</th>\n",
       "      <th>btc_avg_block_size</th>\n",
       "      <th>btc_n_orphaned_blocks</th>\n",
       "      <th>btc_n_transactions_per_block</th>\n",
       "      <th>btc_median_confirmation_time</th>\n",
       "      <th>btc_hash_rate</th>\n",
       "      <th>...</th>\n",
       "      <th>btc_cost_per_transaction_percent</th>\n",
       "      <th>btc_cost_per_transaction</th>\n",
       "      <th>btc_n_unique_addresses</th>\n",
       "      <th>btc_n_transactions</th>\n",
       "      <th>btc_n_transactions_total</th>\n",
       "      <th>btc_n_transactions_excluding_popular</th>\n",
       "      <th>btc_n_transactions_excluding_chains_longer_than_100</th>\n",
       "      <th>btc_output_volume</th>\n",
       "      <th>btc_estimated_transaction_volume</th>\n",
       "      <th>btc_estimated_transaction_volume_usd</th>\n",
       "    </tr>\n",
       "  </thead>\n",
       "  <tbody>\n",
       "    <tr>\n",
       "      <th>0</th>\n",
       "      <td>0.0</td>\n",
       "      <td>2043200.0</td>\n",
       "      <td>0.0</td>\n",
       "      <td>0.0</td>\n",
       "      <td>0.0</td>\n",
       "      <td>0.000235</td>\n",
       "      <td>0.0</td>\n",
       "      <td>1.0</td>\n",
       "      <td>0.0</td>\n",
       "      <td>0.000029</td>\n",
       "      <td>...</td>\n",
       "      <td>31.781022</td>\n",
       "      <td>0.0</td>\n",
       "      <td>241.0</td>\n",
       "      <td>244.0</td>\n",
       "      <td>41240.0</td>\n",
       "      <td>244.0</td>\n",
       "      <td>244.0</td>\n",
       "      <td>65173.13</td>\n",
       "      <td>36500.0</td>\n",
       "      <td>0.0</td>\n",
       "    </tr>\n",
       "    <tr>\n",
       "      <th>1</th>\n",
       "      <td>0.0</td>\n",
       "      <td>2054650.0</td>\n",
       "      <td>0.0</td>\n",
       "      <td>0.0</td>\n",
       "      <td>0.0</td>\n",
       "      <td>0.000241</td>\n",
       "      <td>0.0</td>\n",
       "      <td>1.0</td>\n",
       "      <td>0.0</td>\n",
       "      <td>0.000029</td>\n",
       "      <td>...</td>\n",
       "      <td>154.463801</td>\n",
       "      <td>0.0</td>\n",
       "      <td>234.0</td>\n",
       "      <td>235.0</td>\n",
       "      <td>41475.0</td>\n",
       "      <td>235.0</td>\n",
       "      <td>235.0</td>\n",
       "      <td>18911.74</td>\n",
       "      <td>7413.0</td>\n",
       "      <td>0.0</td>\n",
       "    </tr>\n",
       "    <tr>\n",
       "      <th>2</th>\n",
       "      <td>0.0</td>\n",
       "      <td>2063600.0</td>\n",
       "      <td>0.0</td>\n",
       "      <td>0.0</td>\n",
       "      <td>0.0</td>\n",
       "      <td>0.000228</td>\n",
       "      <td>0.0</td>\n",
       "      <td>1.0</td>\n",
       "      <td>0.0</td>\n",
       "      <td>0.000023</td>\n",
       "      <td>...</td>\n",
       "      <td>1278.516635</td>\n",
       "      <td>0.0</td>\n",
       "      <td>185.0</td>\n",
       "      <td>183.0</td>\n",
       "      <td>41658.0</td>\n",
       "      <td>183.0</td>\n",
       "      <td>183.0</td>\n",
       "      <td>9749.98</td>\n",
       "      <td>700.0</td>\n",
       "      <td>0.0</td>\n",
       "    </tr>\n",
       "    <tr>\n",
       "      <th>3</th>\n",
       "      <td>0.0</td>\n",
       "      <td>2074700.0</td>\n",
       "      <td>0.0</td>\n",
       "      <td>0.0</td>\n",
       "      <td>0.0</td>\n",
       "      <td>0.000218</td>\n",
       "      <td>0.0</td>\n",
       "      <td>1.0</td>\n",
       "      <td>0.0</td>\n",
       "      <td>0.000028</td>\n",
       "      <td>...</td>\n",
       "      <td>22186.687990</td>\n",
       "      <td>0.0</td>\n",
       "      <td>224.0</td>\n",
       "      <td>224.0</td>\n",
       "      <td>41882.0</td>\n",
       "      <td>224.0</td>\n",
       "      <td>224.0</td>\n",
       "      <td>11150.03</td>\n",
       "      <td>50.0</td>\n",
       "      <td>0.0</td>\n",
       "    </tr>\n",
       "    <tr>\n",
       "      <th>4</th>\n",
       "      <td>0.0</td>\n",
       "      <td>2085400.0</td>\n",
       "      <td>0.0</td>\n",
       "      <td>0.0</td>\n",
       "      <td>0.0</td>\n",
       "      <td>0.000234</td>\n",
       "      <td>0.0</td>\n",
       "      <td>1.0</td>\n",
       "      <td>0.0</td>\n",
       "      <td>0.000027</td>\n",
       "      <td>...</td>\n",
       "      <td>689.179876</td>\n",
       "      <td>0.0</td>\n",
       "      <td>218.0</td>\n",
       "      <td>218.0</td>\n",
       "      <td>42100.0</td>\n",
       "      <td>218.0</td>\n",
       "      <td>218.0</td>\n",
       "      <td>12266.83</td>\n",
       "      <td>1553.0</td>\n",
       "      <td>0.0</td>\n",
       "    </tr>\n",
       "  </tbody>\n",
       "</table>\n",
       "<p>5 rows × 23 columns</p>\n",
       "</div>"
      ],
      "text/plain": [
       "   btc_market_price  btc_total_bitcoins  btc_market_cap  btc_trade_volume  \\\n",
       "0               0.0           2043200.0             0.0               0.0   \n",
       "1               0.0           2054650.0             0.0               0.0   \n",
       "2               0.0           2063600.0             0.0               0.0   \n",
       "3               0.0           2074700.0             0.0               0.0   \n",
       "4               0.0           2085400.0             0.0               0.0   \n",
       "\n",
       "   btc_blocks_size  btc_avg_block_size  btc_n_orphaned_blocks  \\\n",
       "0              0.0            0.000235                    0.0   \n",
       "1              0.0            0.000241                    0.0   \n",
       "2              0.0            0.000228                    0.0   \n",
       "3              0.0            0.000218                    0.0   \n",
       "4              0.0            0.000234                    0.0   \n",
       "\n",
       "   btc_n_transactions_per_block  btc_median_confirmation_time  btc_hash_rate  \\\n",
       "0                           1.0                           0.0       0.000029   \n",
       "1                           1.0                           0.0       0.000029   \n",
       "2                           1.0                           0.0       0.000023   \n",
       "3                           1.0                           0.0       0.000028   \n",
       "4                           1.0                           0.0       0.000027   \n",
       "\n",
       "                   ...                   btc_cost_per_transaction_percent  \\\n",
       "0                  ...                                          31.781022   \n",
       "1                  ...                                         154.463801   \n",
       "2                  ...                                        1278.516635   \n",
       "3                  ...                                       22186.687990   \n",
       "4                  ...                                         689.179876   \n",
       "\n",
       "   btc_cost_per_transaction  btc_n_unique_addresses  btc_n_transactions  \\\n",
       "0                       0.0                   241.0               244.0   \n",
       "1                       0.0                   234.0               235.0   \n",
       "2                       0.0                   185.0               183.0   \n",
       "3                       0.0                   224.0               224.0   \n",
       "4                       0.0                   218.0               218.0   \n",
       "\n",
       "   btc_n_transactions_total  btc_n_transactions_excluding_popular  \\\n",
       "0                   41240.0                                 244.0   \n",
       "1                   41475.0                                 235.0   \n",
       "2                   41658.0                                 183.0   \n",
       "3                   41882.0                                 224.0   \n",
       "4                   42100.0                                 218.0   \n",
       "\n",
       "   btc_n_transactions_excluding_chains_longer_than_100  btc_output_volume  \\\n",
       "0                                              244.0             65173.13   \n",
       "1                                              235.0             18911.74   \n",
       "2                                              183.0              9749.98   \n",
       "3                                              224.0             11150.03   \n",
       "4                                              218.0             12266.83   \n",
       "\n",
       "   btc_estimated_transaction_volume  btc_estimated_transaction_volume_usd  \n",
       "0                           36500.0                                   0.0  \n",
       "1                            7413.0                                   0.0  \n",
       "2                             700.0                                   0.0  \n",
       "3                              50.0                                   0.0  \n",
       "4                            1553.0                                   0.0  \n",
       "\n",
       "[5 rows x 23 columns]"
      ]
     },
     "execution_count": 11,
     "metadata": {},
     "output_type": "execute_result"
    }
   ],
   "source": [
    "#Imputation \n",
    "\n",
    "from fancyimpute import KNN\n",
    "data_numeric=data.select_dtypes(include=[np.float])\n",
    "data_filled=pd.DataFrame(KNN(3).complete(data_numeric))\n",
    "\n",
    "data_filled.columns = data_numeric.columns\n",
    "data_filled.index = data_numeric.index\n",
    "data_filled.head()"
   ]
  },
  {
   "cell_type": "code",
   "execution_count": 12,
   "metadata": {},
   "outputs": [
    {
     "name": "stdout",
     "output_type": "stream",
     "text": [
      "<class 'pandas.core.frame.DataFrame'>\n",
      "RangeIndex: 2906 entries, 0 to 2905\n",
      "Data columns (total 23 columns):\n",
      "btc_market_price                                       2906 non-null float64\n",
      "btc_total_bitcoins                                     2906 non-null float64\n",
      "btc_market_cap                                         2906 non-null float64\n",
      "btc_trade_volume                                       2906 non-null float64\n",
      "btc_blocks_size                                        2906 non-null float64\n",
      "btc_avg_block_size                                     2906 non-null float64\n",
      "btc_n_orphaned_blocks                                  2906 non-null float64\n",
      "btc_n_transactions_per_block                           2906 non-null float64\n",
      "btc_median_confirmation_time                           2906 non-null float64\n",
      "btc_hash_rate                                          2906 non-null float64\n",
      "btc_difficulty                                         2906 non-null float64\n",
      "btc_miners_revenue                                     2906 non-null float64\n",
      "btc_transaction_fees                                   2906 non-null float64\n",
      "btc_cost_per_transaction_percent                       2906 non-null float64\n",
      "btc_cost_per_transaction                               2906 non-null float64\n",
      "btc_n_unique_addresses                                 2906 non-null float64\n",
      "btc_n_transactions                                     2906 non-null float64\n",
      "btc_n_transactions_total                               2906 non-null float64\n",
      "btc_n_transactions_excluding_popular                   2906 non-null float64\n",
      "btc_n_transactions_excluding_chains_longer_than_100    2906 non-null float64\n",
      "btc_output_volume                                      2906 non-null float64\n",
      "btc_estimated_transaction_volume                       2906 non-null float64\n",
      "btc_estimated_transaction_volume_usd                   2906 non-null float64\n",
      "dtypes: float64(23)\n",
      "memory usage: 522.2 KB\n"
     ]
    }
   ],
   "source": [
    "data_filled.info()\n"
   ]
  },
  {
   "cell_type": "markdown",
   "metadata": {},
   "source": [
    "### Removing highly correlated variables "
   ]
  },
  {
   "cell_type": "code",
   "execution_count": 13,
   "metadata": {},
   "outputs": [
    {
     "name": "stdout",
     "output_type": "stream",
     "text": [
      "['btc_total_bitcoins' 'btc_market_cap' 'btc_trade_volume' 'btc_blocks_size'\n",
      " 'btc_avg_block_size' 'btc_n_orphaned_blocks'\n",
      " 'btc_n_transactions_per_block' 'btc_median_confirmation_time'\n",
      " 'btc_hash_rate' 'btc_difficulty' 'btc_miners_revenue'\n",
      " 'btc_transaction_fees' 'btc_cost_per_transaction_percent'\n",
      " 'btc_cost_per_transaction' 'btc_n_unique_addresses' 'btc_n_transactions'\n",
      " 'btc_n_transactions_total' 'btc_n_transactions_excluding_popular'\n",
      " 'btc_n_transactions_excluding_chains_longer_than_100' 'btc_output_volume'\n",
      " 'btc_estimated_transaction_volume' 'btc_estimated_transaction_volume_usd']\n"
     ]
    },
    {
     "data": {
      "text/plain": [
       "(2906, 7)"
      ]
     },
     "execution_count": 13,
     "metadata": {},
     "output_type": "execute_result"
    }
   ],
   "source": [
    "df=data_filled\n",
    "#sub_col.append(\"btc_market_price\")\n",
    "print(sub_col)\n",
    "df_sub=df[sub_col]\n",
    "#removing correlated variables\n",
    "non_col=[\"btc_trade_volume\",\n",
    "\"btc_n_orphaned_blocks\",\n",
    "\"btc_median_confirmation_time\",\n",
    "\"btc_transaction_fees\",\n",
    "\"btc_cost_per_transaction_percent\",\n",
    "\"btc_output_volume\",\n",
    "\"btc_estimated_transaction_volume\"\n",
    "]\n",
    "\n",
    "df_sub=df_sub[non_col]\n",
    "df_sub.shape\n",
    "\n"
   ]
  },
  {
   "cell_type": "code",
   "execution_count": 14,
   "metadata": {},
   "outputs": [
    {
     "data": {
      "text/html": [
       "<div>\n",
       "<style>\n",
       "    .dataframe thead tr:only-child th {\n",
       "        text-align: right;\n",
       "    }\n",
       "\n",
       "    .dataframe thead th {\n",
       "        text-align: left;\n",
       "    }\n",
       "\n",
       "    .dataframe tbody tr th {\n",
       "        vertical-align: top;\n",
       "    }\n",
       "</style>\n",
       "<table border=\"1\" class=\"dataframe\">\n",
       "  <thead>\n",
       "    <tr style=\"text-align: right;\">\n",
       "      <th></th>\n",
       "      <th>btc_trade_volume</th>\n",
       "      <th>btc_n_orphaned_blocks</th>\n",
       "      <th>btc_median_confirmation_time</th>\n",
       "      <th>btc_transaction_fees</th>\n",
       "      <th>btc_cost_per_transaction_percent</th>\n",
       "      <th>btc_output_volume</th>\n",
       "      <th>btc_estimated_transaction_volume</th>\n",
       "    </tr>\n",
       "  </thead>\n",
       "  <tbody>\n",
       "    <tr>\n",
       "      <th>582</th>\n",
       "      <td>1.933084e+05</td>\n",
       "      <td>0.0</td>\n",
       "      <td>0.000000</td>\n",
       "      <td>4.476934</td>\n",
       "      <td>10.039596</td>\n",
       "      <td>3.147717e+05</td>\n",
       "      <td>74744.0</td>\n",
       "    </tr>\n",
       "    <tr>\n",
       "      <th>2001</th>\n",
       "      <td>1.360215e+07</td>\n",
       "      <td>3.0</td>\n",
       "      <td>7.133333</td>\n",
       "      <td>26.659978</td>\n",
       "      <td>1.640023</td>\n",
       "      <td>1.195838e+06</td>\n",
       "      <td>259204.0</td>\n",
       "    </tr>\n",
       "    <tr>\n",
       "      <th>1259</th>\n",
       "      <td>4.303075e+06</td>\n",
       "      <td>0.0</td>\n",
       "      <td>6.350000</td>\n",
       "      <td>37.364212</td>\n",
       "      <td>2.724486</td>\n",
       "      <td>8.810266e+05</td>\n",
       "      <td>171115.0</td>\n",
       "    </tr>\n",
       "    <tr>\n",
       "      <th>2129</th>\n",
       "      <td>3.085273e+07</td>\n",
       "      <td>2.0</td>\n",
       "      <td>7.650000</td>\n",
       "      <td>37.228229</td>\n",
       "      <td>1.019021</td>\n",
       "      <td>4.256301e+06</td>\n",
       "      <td>393711.0</td>\n",
       "    </tr>\n",
       "    <tr>\n",
       "      <th>667</th>\n",
       "      <td>9.835301e+04</td>\n",
       "      <td>0.0</td>\n",
       "      <td>12.016667</td>\n",
       "      <td>2.836012</td>\n",
       "      <td>3.842190</td>\n",
       "      <td>4.346336e+05</td>\n",
       "      <td>161418.0</td>\n",
       "    </tr>\n",
       "  </tbody>\n",
       "</table>\n",
       "</div>"
      ],
      "text/plain": [
       "      btc_trade_volume  btc_n_orphaned_blocks  btc_median_confirmation_time  \\\n",
       "582       1.933084e+05                    0.0                      0.000000   \n",
       "2001      1.360215e+07                    3.0                      7.133333   \n",
       "1259      4.303075e+06                    0.0                      6.350000   \n",
       "2129      3.085273e+07                    2.0                      7.650000   \n",
       "667       9.835301e+04                    0.0                     12.016667   \n",
       "\n",
       "      btc_transaction_fees  btc_cost_per_transaction_percent  \\\n",
       "582               4.476934                         10.039596   \n",
       "2001             26.659978                          1.640023   \n",
       "1259             37.364212                          2.724486   \n",
       "2129             37.228229                          1.019021   \n",
       "667               2.836012                          3.842190   \n",
       "\n",
       "      btc_output_volume  btc_estimated_transaction_volume  \n",
       "582        3.147717e+05                           74744.0  \n",
       "2001       1.195838e+06                          259204.0  \n",
       "1259       8.810266e+05                          171115.0  \n",
       "2129       4.256301e+06                          393711.0  \n",
       "667        4.346336e+05                          161418.0  "
      ]
     },
     "execution_count": 14,
     "metadata": {},
     "output_type": "execute_result"
    }
   ],
   "source": [
    "from sklearn.model_selection import train_test_split\n",
    "X=df_sub\n",
    "#X=X.drop(\"btc_market_price\",axis=1)\n",
    "#X=X[[\"prev_day_volume\",\"pricelag1\",\"pricelag2\"]]\n",
    "y=df[\"btc_market_price\"]\n",
    "X, X_test, y, y_test = train_test_split(X,y,random_state=0, test_size=0.0)\n",
    "\n",
    "len(X)\n",
    "X.head()"
   ]
  },
  {
   "cell_type": "markdown",
   "metadata": {},
   "source": [
    "## Linear Regression"
   ]
  },
  {
   "cell_type": "code",
   "execution_count": 15,
   "metadata": {
    "collapsed": true
   },
   "outputs": [],
   "source": [
    "from sklearn.model_selection import cross_val_score\n",
    "from sklearn.model_selection import GridSearchCV\n",
    "from sklearn.linear_model import LinearRegression\n",
    "lm=LinearRegression()"
   ]
  },
  {
   "cell_type": "code",
   "execution_count": 16,
   "metadata": {},
   "outputs": [
    {
     "name": "stdout",
     "output_type": "stream",
     "text": [
      "Cross validation scores: [ 0.88570583  0.80777604  0.58187749  0.86243906  0.82103948]\n"
     ]
    },
    {
     "data": {
      "text/plain": [
       "0.79176758023426586"
      ]
     },
     "execution_count": 16,
     "metadata": {},
     "output_type": "execute_result"
    }
   ],
   "source": [
    "#lm_fit=lm.fit(X_train,y_train)\n",
    "#from statsmodels.formula.api  import ols\n",
    "\n",
    "#est = ols(formula = ' y ~  X + X2', data = df).fit()\n",
    "#est.summary()\n",
    "scores = cross_val_score(lm, X,y, cv = 5)\n",
    "print(\"Cross validation scores: {}\".format(scores))\n",
    "scores.mean()"
   ]
  },
  {
   "cell_type": "markdown",
   "metadata": {},
   "source": [
    "## KNN"
   ]
  },
  {
   "cell_type": "code",
   "execution_count": 17,
   "metadata": {
    "collapsed": true
   },
   "outputs": [],
   "source": [
    "\n",
    "from sklearn.preprocessing import MinMaxScaler\n",
    "scaler = MinMaxScaler()\n",
    "#test=test.select_dtypes(include=[np.float])\n",
    "X=scaler.fit_transform(X)\n",
    "# The same instance of the transformer can then be applied to some new test data unseen during the fit call: the same scaling and shifting operations will be applied to be consistent with the transformation performed on the train data\n",
    "#X_test= scaler.transform(X_test)\n",
    "# we need not scale the dependent variable as the algoritm works on finding similar record based on independent variables\n",
    "#test=scaler.transform (test)\n",
    "\n"
   ]
  },
  {
   "cell_type": "code",
   "execution_count": 22,
   "metadata": {},
   "outputs": [
    {
     "data": {
      "text/plain": [
       "GridSearchCV(cv=10, error_score='raise',\n",
       "       estimator=KNeighborsRegressor(algorithm='auto', leaf_size=30, metric='minkowski',\n",
       "          metric_params=None, n_jobs=1, n_neighbors=5, p=2,\n",
       "          weights='uniform'),\n",
       "       fit_params={}, iid=True, n_jobs=1,\n",
       "       param_grid={'n_neighbors': [2, 3, 4, 5, 6, 7, 8, 9, 10]},\n",
       "       pre_dispatch='2*n_jobs', refit=True, return_train_score=True,\n",
       "       scoring=None, verbose=0)"
      ]
     },
     "execution_count": 22,
     "metadata": {},
     "output_type": "execute_result"
    }
   ],
   "source": [
    "from sklearn.neighbors import KNeighborsRegressor\n",
    "param_grid = {'n_neighbors': [2,3,4,5,6,7,8,9,10]}\n",
    "#To check what parameters exits for an estimator 'knnreg.get_params().keys()'\n",
    "knnreg=KNeighborsRegressor()\n",
    "grid_search = GridSearchCV(knnreg, param_grid, cv=10)\n",
    "\n",
    "grid_search.fit(X, y)\n",
    "\n"
   ]
  },
  {
   "cell_type": "code",
   "execution_count": 21,
   "metadata": {
    "collapsed": true
   },
   "outputs": [],
   "source": [
    "grid_search.scoring"
   ]
  },
  {
   "cell_type": "code",
   "execution_count": 140,
   "metadata": {},
   "outputs": [
    {
     "name": "stdout",
     "output_type": "stream",
     "text": [
      "Best parameters: {'n_neighbors': 5}\n",
      "Best cross-validation score: 0.93\n"
     ]
    }
   ],
   "source": [
    "print(\"Best parameters: {}\".format(grid_search.best_params_))\n",
    "print(\"Best cross-validation score: {:.2f}\".format(grid_search.best_score_))\n",
    "mean_test_score=grid_search.cv_results_[\"mean_test_score\"]\n",
    "k=[2, 3, 4, 5, 6, 7, 8, 9, 10]"
   ]
  },
  {
   "cell_type": "code",
   "execution_count": 144,
   "metadata": {},
   "outputs": [
    {
     "data": {
      "text/plain": [
       "[<matplotlib.lines.Line2D at 0x24607299940>]"
      ]
     },
     "execution_count": 144,
     "metadata": {},
     "output_type": "execute_result"
    },
    {
     "data": {
      "image/png": "[encoded data removed]",
      "text/plain": [
       "<matplotlib.figure.Figure at 0x24605e45f28>"
      ]
     },
     "metadata": {},
     "output_type": "display_data"
    }
   ],
   "source": [
    "# plot between number of neighbours and test scores\n",
    "\n",
    "import seaborn as sn\n",
    "import matplotlib.pyplot as plt\n",
    "% matplotlib inline \n",
    "\n",
    "plt.plot(k,mean_test_score,\"r\")"
   ]
  },
  {
   "cell_type": "markdown",
   "metadata": {},
   "source": [
    "## Ridge"
   ]
  },
  {
   "cell_type": "code",
   "execution_count": 146,
   "metadata": {},
   "outputs": [
    {
     "data": {
      "text/plain": [
       "GridSearchCV(cv=10, error_score='raise',\n",
       "       estimator=Ridge(alpha=1.0, copy_X=True, fit_intercept=True, max_iter=None,\n",
       "   normalize=False, random_state=None, solver='auto', tol=0.001),\n",
       "       fit_params={}, iid=True, n_jobs=1,\n",
       "       param_grid={'alpha': [0.001, 0.01, 0.1, 1, 10, 100]},\n",
       "       pre_dispatch='2*n_jobs', refit=True, return_train_score=True,\n",
       "       scoring=None, verbose=0)"
      ]
     },
     "execution_count": 146,
     "metadata": {},
     "output_type": "execute_result"
    }
   ],
   "source": [
    "from sklearn.linear_model import Ridge\n",
    "ridge=Ridge()\n",
    "param_grid = {'alpha': [0.001, 0.01, 0.1, 1, 10, 100]}\n",
    "grid_search = GridSearchCV(ridge, param_grid, cv=10)\n",
    "\n",
    "\n",
    "grid_search.fit(X, y)"
   ]
  },
  {
   "cell_type": "code",
   "execution_count": 186,
   "metadata": {},
   "outputs": [
    {
     "name": "stdout",
     "output_type": "stream",
     "text": [
      "Best parameters: {'alpha': 0.1}\n",
      "Best cross-validation score: 0.81\n"
     ]
    }
   ],
   "source": [
    "print(\"Best parameters: {}\".format(grid_search.best_params_))\n",
    "print(\"Best cross-validation score: {:.2f}\".format(grid_search.best_score_))\n"
   ]
  },
  {
   "cell_type": "code",
   "execution_count": 148,
   "metadata": {},
   "outputs": [
    {
     "data": {
      "text/plain": [
       "[<matplotlib.lines.Line2D at 0x246075345c0>]"
      ]
     },
     "execution_count": 148,
     "metadata": {},
     "output_type": "execute_result"
    },
    {
     "data": {
      "image/png": "[encoded data removed]",
      "text/plain": [
       "<matplotlib.figure.Figure at 0x2460731feb8>"
      ]
     },
     "metadata": {},
     "output_type": "display_data"
    }
   ],
   "source": [
    "alpha =[0.001, 0.01, 0.1, 1, 10, 100]\n",
    "mean_test_score=grid_search.cv_results_[\"mean_test_score\"]\n",
    "plt.plot(alpha,mean_test_score,\"b\")\n",
    "    "
   ]
  },
  {
   "cell_type": "markdown",
   "metadata": {},
   "source": [
    "## Lasso"
   ]
  },
  {
   "cell_type": "code",
   "execution_count": 149,
   "metadata": {},
   "outputs": [
    {
     "data": {
      "text/plain": [
       "GridSearchCV(cv=10, error_score='raise',\n",
       "       estimator=Lasso(alpha=1.0, copy_X=True, fit_intercept=True, max_iter=1000,\n",
       "   normalize=False, positive=False, precompute=False, random_state=None,\n",
       "   selection='cyclic', tol=0.0001, warm_start=False),\n",
       "       fit_params={}, iid=True, n_jobs=1,\n",
       "       param_grid={'alpha': [0.001, 0.01, 0.1, 1, 10, 100], 'max_iter': [100, 1000, 10000]},\n",
       "       pre_dispatch='2*n_jobs', refit=True, return_train_score=True,\n",
       "       scoring=None, verbose=0)"
      ]
     },
     "execution_count": 149,
     "metadata": {},
     "output_type": "execute_result"
    }
   ],
   "source": [
    "from sklearn.linear_model import Lasso\n",
    "lasso=Lasso()\n",
    "# lasso model\n",
    "lasso=Lasso()\n",
    "param_grid = {'alpha': [0.001, 0.01, 0.1, 1, 10, 100], 'max_iter': [100,1000,10000]}\n",
    "\n",
    "grid_search_lasso = GridSearchCV(lasso, param_grid, cv=10)\n",
    "\n",
    "grid_search_lasso.fit(X, y)"
   ]
  },
  {
   "cell_type": "code",
   "execution_count": 150,
   "metadata": {},
   "outputs": [
    {
     "name": "stdout",
     "output_type": "stream",
     "text": [
      "Best parameters: {'alpha': 1, 'max_iter': 100}\n",
      "Best cross-validation score: 0.81\n"
     ]
    }
   ],
   "source": [
    "print(\"Best parameters: {}\".format(grid_search_lasso.best_params_))\n",
    "print(\"Best cross-validation score: {:.2f}\".format(grid_search_lasso.best_score_))"
   ]
  },
  {
   "cell_type": "markdown",
   "metadata": {},
   "source": [
    "## Polynomial Regression\n",
    "#### Degree = 2"
   ]
  },
  {
   "cell_type": "code",
   "execution_count": 113,
   "metadata": {},
   "outputs": [
    {
     "name": "stdout",
     "output_type": "stream",
     "text": [
      "(poly deg 2) linear model coeff (w):\n",
      "[ -3.22581263e-04   5.95920042e+04  -1.04842681e+03  -3.56799274e+02\n",
      "   2.19101493e+04  -3.27106820e+03  -2.75608123e+03  -1.22699058e+03\n",
      "  -3.55926410e+04  -1.04482218e+05  -2.86811860e+04   3.91547328e+03\n",
      "   5.09731618e+08   2.13699776e+04  -2.59512945e+05  -2.72719155e+02\n",
      "   2.65552833e+03  -7.72331067e+03   2.43479798e+07   3.77330924e+02\n",
      "   2.09007357e+04   9.42998956e+02  -1.32849443e+04   2.07758906e+06\n",
      "   2.59264997e+03  -1.58171928e+03  -7.39898003e+03  -1.44018788e+08\n",
      "   8.73072305e+03  -1.71970835e+05   3.06702306e+03   2.18494578e+07\n",
      "  -7.58901583e+07   7.12029731e+02   1.74220170e+04   1.00225879e+02]\n",
      "(poly deg 2) linear model intercept (b): 123.285\n",
      "Cross validation scores: [ 0.92440574  0.90179339  0.81826098  0.93262875  0.90381574]\n"
     ]
    },
    {
     "data": {
      "text/plain": [
       "0.89618091854908255"
      ]
     },
     "execution_count": 113,
     "metadata": {},
     "output_type": "execute_result"
    }
   ],
   "source": [
    "from sklearn.preprocessing import PolynomialFeatures\n",
    "poly = PolynomialFeatures(degree=2)\n",
    "X_poly = poly.fit_transform(X)\n",
    "lm = LinearRegression()\n",
    "linreg=lm.fit(X_poly, y)\n",
    "print('(poly deg 2) linear model coeff (w):\\n{}'\n",
    "     .format(linreg.coef_))\n",
    "print('(poly deg 2) linear model intercept (b): {:.3f}'\n",
    "     .format(linreg.intercept_))\n",
    "\n",
    "#CV\n",
    "scores = cross_val_score(lm, X_poly,y, cv = 5)\n",
    "print(\"Cross validation scores: {}\".format(scores))\n",
    "scores.mean()"
   ]
  },
  {
   "cell_type": "markdown",
   "metadata": {},
   "source": [
    "### Ridge on polynomial features of degree 2"
   ]
  },
  {
   "cell_type": "code",
   "execution_count": 86,
   "metadata": {},
   "outputs": [
    {
     "data": {
      "text/plain": [
       "{'mean_fit_time': array([ 0.00579245,  0.00479884,  0.00249634,  0.003125  ,  0.00242069,\n",
       "         0.00316288]),\n",
       " 'mean_score_time': array([ 0.        ,  0.00120008,  0.        ,  0.        ,  0.00167592,  0.        ]),\n",
       " 'mean_test_score': array([ 0.90301561,  0.90202991,  0.89906187,  0.81515464,  0.69906258,\n",
       "         0.30102142]),\n",
       " 'mean_train_score': array([ 0.92448132,  0.91769086,  0.90453652,  0.8411696 ,  0.70920659,\n",
       "         0.30749538]),\n",
       " 'param_alpha': masked_array(data = [0.001 0.01 0.1 1 10 100],\n",
       "              mask = [False False False False False False],\n",
       "        fill_value = ?),\n",
       " 'params': ({'alpha': 0.001},\n",
       "  {'alpha': 0.01},\n",
       "  {'alpha': 0.1},\n",
       "  {'alpha': 1},\n",
       "  {'alpha': 10},\n",
       "  {'alpha': 100}),\n",
       " 'rank_test_score': array([1, 2, 3, 4, 5, 6]),\n",
       " 'split0_test_score': array([ 0.92122791,  0.91937882,  0.90881774,  0.86755699,  0.73910956,\n",
       "         0.29993331]),\n",
       " 'split0_train_score': array([ 0.92402053,  0.91655288,  0.90340627,  0.83727581,  0.69714519,\n",
       "         0.29980686]),\n",
       " 'split1_test_score': array([ 0.93407944,  0.93517842,  0.93867456,  0.90784228,  0.77045909,\n",
       "         0.31414147]),\n",
       " 'split1_train_score': array([ 0.92256709,  0.9152489 ,  0.90141881,  0.83390631,  0.69668718,\n",
       "         0.30314947]),\n",
       " 'split2_test_score': array([ 0.8672836 ,  0.85477722,  0.84330508,  0.78402783,  0.63803091,\n",
       "         0.27394404]),\n",
       " 'split2_train_score': array([ 0.92880102,  0.92250336,  0.91051047,  0.84612061,  0.71605449,\n",
       "         0.3167333 ]),\n",
       " 'split3_test_score': array([ 0.92974359,  0.90722865,  0.90030011,  0.83794564,  0.71697976,\n",
       "         0.3106495 ]),\n",
       " 'split3_train_score': array([ 0.92267977,  0.91669273,  0.90479257,  0.84267859,  0.71183323,\n",
       "         0.3155924 ]),\n",
       " 'split4_test_score': array([ 0.84542886,  0.86771429,  0.86416785,  0.51312707,  0.57285575,\n",
       "         0.3216994 ]),\n",
       " 'split4_train_score': array([ 0.9299499 ,  0.9218751 ,  0.90577881,  0.85207233,  0.73934463,\n",
       "         0.2977712 ]),\n",
       " 'split5_test_score': array([ 0.8222953 ,  0.85996529,  0.93501756,  0.88116516,  0.7676734 ,\n",
       "         0.33315918]),\n",
       " 'split5_train_score': array([ 0.92519469,  0.91865938,  0.90260234,  0.8387023 ,  0.70481797,\n",
       "         0.3077527 ]),\n",
       " 'split6_test_score': array([ 0.95766757,  0.94942058,  0.9321256 ,  0.86476686,  0.6958749 ,\n",
       "         0.28055071]),\n",
       " 'split6_train_score': array([ 0.91861501,  0.91186488,  0.89959471,  0.83464894,  0.70270535,\n",
       "         0.30547711]),\n",
       " 'split7_test_score': array([ 0.90437883,  0.89682363,  0.89037106,  0.86320151,  0.75871206,\n",
       "         0.32075532]),\n",
       " 'split7_train_score': array([ 0.9252589 ,  0.91904394,  0.90636767,  0.83988518,  0.69978038,\n",
       "         0.29991798]),\n",
       " 'split8_test_score': array([ 0.94052804,  0.93312321,  0.90096417,  0.8068342 ,  0.62697924,\n",
       "         0.2541691 ]),\n",
       " 'split8_train_score': array([ 0.9227145 ,  0.91580955,  0.90387495,  0.84320792,  0.71598366,\n",
       "         0.32145094]),\n",
       " 'split9_test_score': array([ 0.90786102,  0.89692324,  0.87688909,  0.82542118,  0.7039141 ,\n",
       "         0.30104867]),\n",
       " 'split9_train_score': array([ 0.92501178,  0.91865787,  0.90701862,  0.84319801,  0.70771381,\n",
       "         0.30730183]),\n",
       " 'std_fit_time': array([ 0.00396051,  0.00391707,  0.00475774,  0.00625   ,  0.00169663,\n",
       "         0.00456337]),\n",
       " 'std_score_time': array([ 0.        ,  0.00256143,  0.        ,  0.        ,  0.004703  ,  0.        ]),\n",
       " 'std_test_score': array([ 0.04189046,  0.03142427,  0.02992605,  0.10653021,  0.06339995,\n",
       "         0.02336754]),\n",
       " 'std_train_score': array([ 0.003076  ,  0.00300179,  0.00293953,  0.00521634,  0.01209481,\n",
       "         0.00761454])}"
      ]
     },
     "execution_count": 86,
     "metadata": {},
     "output_type": "execute_result"
    }
   ],
   "source": [
    "#Ridge + polynomial regression\n",
    "\n",
    "param_grid = {'alpha': [0.001, 0.01, 0.1, 1, 10, 100]}\n",
    "\n",
    "grid_search = GridSearchCV(ridge, param_grid, cv=10)\n",
    "\n",
    "grid_search.fit(X_poly, y)\n",
    "grid_search.cv_results_"
   ]
  },
  {
   "cell_type": "code",
   "execution_count": 87,
   "metadata": {},
   "outputs": [
    {
     "name": "stdout",
     "output_type": "stream",
     "text": [
      "Best parameters: {'alpha': 0.001}\n",
      "Best cross-validation score: 0.90\n"
     ]
    }
   ],
   "source": [
    "print(\"Best parameters: {}\".format(grid_search.best_params_))\n",
    "print(\"Best cross-validation score: {:.2f}\".format(grid_search.best_score_))"
   ]
  },
  {
   "cell_type": "markdown",
   "metadata": {},
   "source": [
    "### Lasso on polynomial features of degree 2"
   ]
  },
  {
   "cell_type": "code",
   "execution_count": 88,
   "metadata": {},
   "outputs": [
    {
     "name": "stderr",
     "output_type": "stream",
     "text": [
      "C:\\Users\\Arthi\\Anaconda3\\lib\\site-packages\\sklearn\\linear_model\\coordinate_descent.py:484: ConvergenceWarning: Objective did not converge. You might want to increase the number of iterations. Fitting data with very small alpha may cause precision problems.\n",
      "  ConvergenceWarning)\n",
      "C:\\Users\\Arthi\\Anaconda3\\lib\\site-packages\\sklearn\\linear_model\\coordinate_descent.py:484: ConvergenceWarning: Objective did not converge. You might want to increase the number of iterations. Fitting data with very small alpha may cause precision problems.\n",
      "  ConvergenceWarning)\n",
      "C:\\Users\\Arthi\\Anaconda3\\lib\\site-packages\\sklearn\\linear_model\\coordinate_descent.py:484: ConvergenceWarning: Objective did not converge. You might want to increase the number of iterations. Fitting data with very small alpha may cause precision problems.\n",
      "  ConvergenceWarning)\n",
      "C:\\Users\\Arthi\\Anaconda3\\lib\\site-packages\\sklearn\\linear_model\\coordinate_descent.py:484: ConvergenceWarning: Objective did not converge. You might want to increase the number of iterations. Fitting data with very small alpha may cause precision problems.\n",
      "  ConvergenceWarning)\n",
      "C:\\Users\\Arthi\\Anaconda3\\lib\\site-packages\\sklearn\\linear_model\\coordinate_descent.py:484: ConvergenceWarning: Objective did not converge. You might want to increase the number of iterations. Fitting data with very small alpha may cause precision problems.\n",
      "  ConvergenceWarning)\n",
      "C:\\Users\\Arthi\\Anaconda3\\lib\\site-packages\\sklearn\\linear_model\\coordinate_descent.py:484: ConvergenceWarning: Objective did not converge. You might want to increase the number of iterations. Fitting data with very small alpha may cause precision problems.\n",
      "  ConvergenceWarning)\n",
      "C:\\Users\\Arthi\\Anaconda3\\lib\\site-packages\\sklearn\\linear_model\\coordinate_descent.py:484: ConvergenceWarning: Objective did not converge. You might want to increase the number of iterations. Fitting data with very small alpha may cause precision problems.\n",
      "  ConvergenceWarning)\n",
      "C:\\Users\\Arthi\\Anaconda3\\lib\\site-packages\\sklearn\\linear_model\\coordinate_descent.py:484: ConvergenceWarning: Objective did not converge. You might want to increase the number of iterations. Fitting data with very small alpha may cause precision problems.\n",
      "  ConvergenceWarning)\n",
      "C:\\Users\\Arthi\\Anaconda3\\lib\\site-packages\\sklearn\\linear_model\\coordinate_descent.py:484: ConvergenceWarning: Objective did not converge. You might want to increase the number of iterations. Fitting data with very small alpha may cause precision problems.\n",
      "  ConvergenceWarning)\n",
      "C:\\Users\\Arthi\\Anaconda3\\lib\\site-packages\\sklearn\\linear_model\\coordinate_descent.py:484: ConvergenceWarning: Objective did not converge. You might want to increase the number of iterations. Fitting data with very small alpha may cause precision problems.\n",
      "  ConvergenceWarning)\n",
      "C:\\Users\\Arthi\\Anaconda3\\lib\\site-packages\\sklearn\\linear_model\\coordinate_descent.py:484: ConvergenceWarning: Objective did not converge. You might want to increase the number of iterations. Fitting data with very small alpha may cause precision problems.\n",
      "  ConvergenceWarning)\n",
      "C:\\Users\\Arthi\\Anaconda3\\lib\\site-packages\\sklearn\\linear_model\\coordinate_descent.py:484: ConvergenceWarning: Objective did not converge. You might want to increase the number of iterations. Fitting data with very small alpha may cause precision problems.\n",
      "  ConvergenceWarning)\n",
      "C:\\Users\\Arthi\\Anaconda3\\lib\\site-packages\\sklearn\\linear_model\\coordinate_descent.py:484: ConvergenceWarning: Objective did not converge. You might want to increase the number of iterations. Fitting data with very small alpha may cause precision problems.\n",
      "  ConvergenceWarning)\n",
      "C:\\Users\\Arthi\\Anaconda3\\lib\\site-packages\\sklearn\\linear_model\\coordinate_descent.py:484: ConvergenceWarning: Objective did not converge. You might want to increase the number of iterations. Fitting data with very small alpha may cause precision problems.\n",
      "  ConvergenceWarning)\n",
      "C:\\Users\\Arthi\\Anaconda3\\lib\\site-packages\\sklearn\\linear_model\\coordinate_descent.py:484: ConvergenceWarning: Objective did not converge. You might want to increase the number of iterations. Fitting data with very small alpha may cause precision problems.\n",
      "  ConvergenceWarning)\n",
      "C:\\Users\\Arthi\\Anaconda3\\lib\\site-packages\\sklearn\\linear_model\\coordinate_descent.py:484: ConvergenceWarning: Objective did not converge. You might want to increase the number of iterations. Fitting data with very small alpha may cause precision problems.\n",
      "  ConvergenceWarning)\n",
      "C:\\Users\\Arthi\\Anaconda3\\lib\\site-packages\\sklearn\\linear_model\\coordinate_descent.py:484: ConvergenceWarning: Objective did not converge. You might want to increase the number of iterations. Fitting data with very small alpha may cause precision problems.\n",
      "  ConvergenceWarning)\n",
      "C:\\Users\\Arthi\\Anaconda3\\lib\\site-packages\\sklearn\\linear_model\\coordinate_descent.py:484: ConvergenceWarning: Objective did not converge. You might want to increase the number of iterations. Fitting data with very small alpha may cause precision problems.\n",
      "  ConvergenceWarning)\n",
      "C:\\Users\\Arthi\\Anaconda3\\lib\\site-packages\\sklearn\\linear_model\\coordinate_descent.py:484: ConvergenceWarning: Objective did not converge. You might want to increase the number of iterations. Fitting data with very small alpha may cause precision problems.\n",
      "  ConvergenceWarning)\n",
      "C:\\Users\\Arthi\\Anaconda3\\lib\\site-packages\\sklearn\\linear_model\\coordinate_descent.py:484: ConvergenceWarning: Objective did not converge. You might want to increase the number of iterations. Fitting data with very small alpha may cause precision problems.\n",
      "  ConvergenceWarning)\n",
      "C:\\Users\\Arthi\\Anaconda3\\lib\\site-packages\\sklearn\\linear_model\\coordinate_descent.py:484: ConvergenceWarning: Objective did not converge. You might want to increase the number of iterations. Fitting data with very small alpha may cause precision problems.\n",
      "  ConvergenceWarning)\n",
      "C:\\Users\\Arthi\\Anaconda3\\lib\\site-packages\\sklearn\\linear_model\\coordinate_descent.py:484: ConvergenceWarning: Objective did not converge. You might want to increase the number of iterations. Fitting data with very small alpha may cause precision problems.\n",
      "  ConvergenceWarning)\n",
      "C:\\Users\\Arthi\\Anaconda3\\lib\\site-packages\\sklearn\\linear_model\\coordinate_descent.py:484: ConvergenceWarning: Objective did not converge. You might want to increase the number of iterations. Fitting data with very small alpha may cause precision problems.\n",
      "  ConvergenceWarning)\n",
      "C:\\Users\\Arthi\\Anaconda3\\lib\\site-packages\\sklearn\\linear_model\\coordinate_descent.py:484: ConvergenceWarning: Objective did not converge. You might want to increase the number of iterations. Fitting data with very small alpha may cause precision problems.\n",
      "  ConvergenceWarning)\n",
      "C:\\Users\\Arthi\\Anaconda3\\lib\\site-packages\\sklearn\\linear_model\\coordinate_descent.py:484: ConvergenceWarning: Objective did not converge. You might want to increase the number of iterations. Fitting data with very small alpha may cause precision problems.\n",
      "  ConvergenceWarning)\n",
      "C:\\Users\\Arthi\\Anaconda3\\lib\\site-packages\\sklearn\\linear_model\\coordinate_descent.py:484: ConvergenceWarning: Objective did not converge. You might want to increase the number of iterations. Fitting data with very small alpha may cause precision problems.\n",
      "  ConvergenceWarning)\n",
      "C:\\Users\\Arthi\\Anaconda3\\lib\\site-packages\\sklearn\\linear_model\\coordinate_descent.py:484: ConvergenceWarning: Objective did not converge. You might want to increase the number of iterations. Fitting data with very small alpha may cause precision problems.\n",
      "  ConvergenceWarning)\n",
      "C:\\Users\\Arthi\\Anaconda3\\lib\\site-packages\\sklearn\\linear_model\\coordinate_descent.py:484: ConvergenceWarning: Objective did not converge. You might want to increase the number of iterations. Fitting data with very small alpha may cause precision problems.\n",
      "  ConvergenceWarning)\n",
      "C:\\Users\\Arthi\\Anaconda3\\lib\\site-packages\\sklearn\\linear_model\\coordinate_descent.py:484: ConvergenceWarning: Objective did not converge. You might want to increase the number of iterations. Fitting data with very small alpha may cause precision problems.\n",
      "  ConvergenceWarning)\n",
      "C:\\Users\\Arthi\\Anaconda3\\lib\\site-packages\\sklearn\\linear_model\\coordinate_descent.py:484: ConvergenceWarning: Objective did not converge. You might want to increase the number of iterations. Fitting data with very small alpha may cause precision problems.\n",
      "  ConvergenceWarning)\n"
     ]
    },
    {
     "name": "stderr",
     "output_type": "stream",
     "text": [
      "C:\\Users\\Arthi\\Anaconda3\\lib\\site-packages\\sklearn\\linear_model\\coordinate_descent.py:484: ConvergenceWarning: Objective did not converge. You might want to increase the number of iterations. Fitting data with very small alpha may cause precision problems.\n",
      "  ConvergenceWarning)\n",
      "C:\\Users\\Arthi\\Anaconda3\\lib\\site-packages\\sklearn\\linear_model\\coordinate_descent.py:484: ConvergenceWarning: Objective did not converge. You might want to increase the number of iterations. Fitting data with very small alpha may cause precision problems.\n",
      "  ConvergenceWarning)\n",
      "C:\\Users\\Arthi\\Anaconda3\\lib\\site-packages\\sklearn\\linear_model\\coordinate_descent.py:484: ConvergenceWarning: Objective did not converge. You might want to increase the number of iterations. Fitting data with very small alpha may cause precision problems.\n",
      "  ConvergenceWarning)\n",
      "C:\\Users\\Arthi\\Anaconda3\\lib\\site-packages\\sklearn\\linear_model\\coordinate_descent.py:484: ConvergenceWarning: Objective did not converge. You might want to increase the number of iterations. Fitting data with very small alpha may cause precision problems.\n",
      "  ConvergenceWarning)\n",
      "C:\\Users\\Arthi\\Anaconda3\\lib\\site-packages\\sklearn\\linear_model\\coordinate_descent.py:484: ConvergenceWarning: Objective did not converge. You might want to increase the number of iterations. Fitting data with very small alpha may cause precision problems.\n",
      "  ConvergenceWarning)\n",
      "C:\\Users\\Arthi\\Anaconda3\\lib\\site-packages\\sklearn\\linear_model\\coordinate_descent.py:484: ConvergenceWarning: Objective did not converge. You might want to increase the number of iterations. Fitting data with very small alpha may cause precision problems.\n",
      "  ConvergenceWarning)\n",
      "C:\\Users\\Arthi\\Anaconda3\\lib\\site-packages\\sklearn\\linear_model\\coordinate_descent.py:484: ConvergenceWarning: Objective did not converge. You might want to increase the number of iterations. Fitting data with very small alpha may cause precision problems.\n",
      "  ConvergenceWarning)\n",
      "C:\\Users\\Arthi\\Anaconda3\\lib\\site-packages\\sklearn\\linear_model\\coordinate_descent.py:484: ConvergenceWarning: Objective did not converge. You might want to increase the number of iterations. Fitting data with very small alpha may cause precision problems.\n",
      "  ConvergenceWarning)\n",
      "C:\\Users\\Arthi\\Anaconda3\\lib\\site-packages\\sklearn\\linear_model\\coordinate_descent.py:484: ConvergenceWarning: Objective did not converge. You might want to increase the number of iterations. Fitting data with very small alpha may cause precision problems.\n",
      "  ConvergenceWarning)\n",
      "C:\\Users\\Arthi\\Anaconda3\\lib\\site-packages\\sklearn\\linear_model\\coordinate_descent.py:484: ConvergenceWarning: Objective did not converge. You might want to increase the number of iterations. Fitting data with very small alpha may cause precision problems.\n",
      "  ConvergenceWarning)\n"
     ]
    },
    {
     "data": {
      "text/plain": [
       "GridSearchCV(cv=10, error_score='raise',\n",
       "       estimator=Lasso(alpha=1.0, copy_X=True, fit_intercept=True, max_iter=1000,\n",
       "   normalize=False, positive=False, precompute=False, random_state=None,\n",
       "   selection='cyclic', tol=0.0001, warm_start=False),\n",
       "       fit_params={}, iid=True, n_jobs=1,\n",
       "       param_grid={'alpha': [0.001, 0.01, 0.1, 1, 10, 100], 'max_iter': [100, 1000, 10000]},\n",
       "       pre_dispatch='2*n_jobs', refit=True, return_train_score=True,\n",
       "       scoring=None, verbose=0)"
      ]
     },
     "execution_count": 88,
     "metadata": {},
     "output_type": "execute_result"
    }
   ],
   "source": [
    "#Lasso with polynomial features\n",
    "lasso=Lasso()\n",
    "param_grid = {'alpha': [0.001, 0.01, 0.1, 1, 10, 100], 'max_iter': [100,1000,10000]}\n",
    "\n",
    "grid_search_lasso = GridSearchCV(lasso, param_grid, cv=10)\n",
    "\n",
    "grid_search_lasso.fit(X_poly, y)"
   ]
  },
  {
   "cell_type": "code",
   "execution_count": 89,
   "metadata": {},
   "outputs": [
    {
     "name": "stdout",
     "output_type": "stream",
     "text": [
      "Best parameters: {'alpha': 0.01, 'max_iter': 1000}\n",
      "Best cross-validation score: 0.91\n"
     ]
    }
   ],
   "source": [
    "print(\"Best parameters: {}\".format(grid_search_lasso.best_params_))\n",
    "print(\"Best cross-validation score: {:.2f}\".format(grid_search_lasso.best_score_))\n",
    "\n",
    "# fit data using lasso with best parameters \n"
   ]
  },
  {
   "cell_type": "markdown",
   "metadata": {},
   "source": [
    "#### Degree 3"
   ]
  },
  {
   "cell_type": "code",
   "execution_count": 114,
   "metadata": {},
   "outputs": [
    {
     "name": "stdout",
     "output_type": "stream",
     "text": [
      "(poly deg 3) linear model coeff (w):\n",
      "[ -7.77073144e+05   3.10676986e+05   1.28558727e+02  -1.32600548e+03\n",
      "   2.09473380e+04  -1.73436701e+03  -4.02848108e+03   5.74942353e+03\n",
      "  -3.15338974e+05  -3.51460406e+04  -8.19830319e+05   1.84600665e+05\n",
      "  -1.23496930e+10  -3.68034128e+05  -3.77545690e+06  -4.04907621e+03\n",
      "   1.15117975e+04   3.27110430e+03   9.81685318e+07   3.72643777e+04\n",
      "  -8.00787030e+04   1.22094094e+03  -7.06860138e+03   7.69433966e+07\n",
      "   2.43515023e+04   1.25548297e+04   5.09222943e+03  -1.23501174e+08\n",
      "  -1.44430477e+05  -3.26938443e+05   1.43791395e+03   3.21148662e+06\n",
      "  -1.25644433e+05  -1.32134539e+04   2.17450557e+04  -1.89979890e+04\n",
      "   9.33707668e+04   1.16325537e+06  -1.36450137e+05   1.70764900e+05\n",
      "   1.81843979e+09   8.06009626e+05   1.63489068e+06   3.49059335e+05\n",
      "  -5.64370282e+05  -7.56016118e+05  -3.76930765e+09  -1.30988451e+06\n",
      "  -4.66484550e+05   9.54102231e+04   8.91625727e+04   4.24305366e+10\n",
      "  -1.38594906e+06   1.06701766e+07  -3.06244988e+05  -5.85813218e+09\n",
      "  -1.25930175e+06   1.16199146e+06   6.45760506e+13   6.88937319e+10\n",
      "   2.41020412e+09  -2.02378171e+05   5.10063677e+06   3.97019780e+06\n",
      "   8.63070401e+02   1.65625619e+04   4.25933706e+02  -2.24982123e+07\n",
      "   3.99196527e+03  -1.57017607e+04  -4.66985034e+04   8.64086159e+04\n",
      "  -3.52647833e+08  -8.04500003e+04   5.44381602e+04   6.38296788e+04\n",
      "  -1.53761181e+09  -1.19756116e+05   4.37585613e+05  -3.42899423e+11\n",
      "  -1.05233813e+09   2.04112597e+09  -1.10471042e+04   3.45278900e+04\n",
      "   5.77363542e+05   1.87848370e+03   6.65799908e+04  -8.17210840e+07\n",
      "  -2.12748958e+04  -8.50685774e+02  -1.61501192e+05  -5.17158216e+08\n",
      "   1.62343033e+05  -2.87925684e+05  -2.59699407e+11  -1.63360619e+08\n",
      "  -1.39202996e+09   5.61897972e+03   6.80351275e+03  -1.92977701e+04\n",
      "   7.73828328e+04   9.85398860e+08   2.70262024e+05  -2.76494168e+05\n",
      "   6.73518142e+10   2.38741518e+09  -2.48398297e+09   1.24523952e+05\n",
      "   5.53078599e+05   2.02319311e+06   4.07334114e+02  -3.58855402e+07\n",
      "   1.08546648e+09   1.08103612e+08   5.65842623e+08  -2.03714020e+09\n",
      "   5.76865564e+03   1.95617875e+04  -8.03957052e+03   8.51198031e+03]\n",
      "(poly deg 3) linear model intercept (b): 777070.269\n",
      "Cross validation scores: [  9.21637937e-01   8.89521333e-01  -6.80808455e-02   8.88680744e-01\n",
      "  -9.05961142e+02]\n"
     ]
    }
   ],
   "source": [
    "poly = PolynomialFeatures(degree=3)\n",
    "X_poly3 = poly.fit_transform(X)\n",
    "\n",
    "lm = LinearRegression()\n",
    "linreg=lm.fit(X_poly3, y)\n",
    "print('(poly deg 3) linear model coeff (w):\\n{}'\n",
    "     .format(linreg.coef_))\n",
    "print('(poly deg 3) linear model intercept (b): {:.3f}'\n",
    "     .format(linreg.intercept_))\n",
    "\n",
    "#CV\n",
    "scores = cross_val_score(lm, X_poly3,y, cv = 5)\n",
    "print(\"Cross validation scores: {}\".format(scores))"
   ]
  },
  {
   "cell_type": "markdown",
   "metadata": {},
   "source": [
    "### Ridge on polynomial features of degree 3"
   ]
  },
  {
   "cell_type": "code",
   "execution_count": 187,
   "metadata": {},
   "outputs": [
    {
     "name": "stdout",
     "output_type": "stream",
     "text": [
      "Best parameters: {'alpha': 0.001}\n",
      "Best cross-validation score: 0.90\n"
     ]
    }
   ],
   "source": [
    "#Ridge + polynomial regression deg=3\n",
    "\n",
    "param_grid = {'alpha': [0.001, 0.01, 0.1, 1, 10, 100]}\n",
    "\n",
    "grid_search = GridSearchCV(ridge, param_grid, cv=10)\n",
    "\n",
    "grid_search.fit(X_poly3, y)\n",
    "\n",
    "print(\"Best parameters: {}\".format(grid_search.best_params_))\n",
    "print(\"Best cross-validation score: {:.2f}\".format(grid_search.best_score_))"
   ]
  },
  {
   "cell_type": "markdown",
   "metadata": {},
   "source": [
    "### Lasso on polynomial features of degree 3"
   ]
  },
  {
   "cell_type": "code",
   "execution_count": 188,
   "metadata": {},
   "outputs": [
    {
     "name": "stderr",
     "output_type": "stream",
     "text": [
      "C:\\Users\\Arthi\\Anaconda3\\lib\\site-packages\\sklearn\\linear_model\\coordinate_descent.py:484: ConvergenceWarning: Objective did not converge. You might want to increase the number of iterations. Fitting data with very small alpha may cause precision problems.\n",
      "  ConvergenceWarning)\n",
      "C:\\Users\\Arthi\\Anaconda3\\lib\\site-packages\\sklearn\\linear_model\\coordinate_descent.py:484: ConvergenceWarning: Objective did not converge. You might want to increase the number of iterations. Fitting data with very small alpha may cause precision problems.\n",
      "  ConvergenceWarning)\n",
      "C:\\Users\\Arthi\\Anaconda3\\lib\\site-packages\\sklearn\\linear_model\\coordinate_descent.py:484: ConvergenceWarning: Objective did not converge. You might want to increase the number of iterations. Fitting data with very small alpha may cause precision problems.\n",
      "  ConvergenceWarning)\n",
      "C:\\Users\\Arthi\\Anaconda3\\lib\\site-packages\\sklearn\\linear_model\\coordinate_descent.py:484: ConvergenceWarning: Objective did not converge. You might want to increase the number of iterations. Fitting data with very small alpha may cause precision problems.\n",
      "  ConvergenceWarning)\n",
      "C:\\Users\\Arthi\\Anaconda3\\lib\\site-packages\\sklearn\\linear_model\\coordinate_descent.py:484: ConvergenceWarning: Objective did not converge. You might want to increase the number of iterations. Fitting data with very small alpha may cause precision problems.\n",
      "  ConvergenceWarning)\n",
      "C:\\Users\\Arthi\\Anaconda3\\lib\\site-packages\\sklearn\\linear_model\\coordinate_descent.py:484: ConvergenceWarning: Objective did not converge. You might want to increase the number of iterations. Fitting data with very small alpha may cause precision problems.\n",
      "  ConvergenceWarning)\n",
      "C:\\Users\\Arthi\\Anaconda3\\lib\\site-packages\\sklearn\\linear_model\\coordinate_descent.py:484: ConvergenceWarning: Objective did not converge. You might want to increase the number of iterations. Fitting data with very small alpha may cause precision problems.\n",
      "  ConvergenceWarning)\n",
      "C:\\Users\\Arthi\\Anaconda3\\lib\\site-packages\\sklearn\\linear_model\\coordinate_descent.py:484: ConvergenceWarning: Objective did not converge. You might want to increase the number of iterations. Fitting data with very small alpha may cause precision problems.\n",
      "  ConvergenceWarning)\n",
      "C:\\Users\\Arthi\\Anaconda3\\lib\\site-packages\\sklearn\\linear_model\\coordinate_descent.py:484: ConvergenceWarning: Objective did not converge. You might want to increase the number of iterations. Fitting data with very small alpha may cause precision problems.\n",
      "  ConvergenceWarning)\n",
      "C:\\Users\\Arthi\\Anaconda3\\lib\\site-packages\\sklearn\\linear_model\\coordinate_descent.py:484: ConvergenceWarning: Objective did not converge. You might want to increase the number of iterations. Fitting data with very small alpha may cause precision problems.\n",
      "  ConvergenceWarning)\n",
      "C:\\Users\\Arthi\\Anaconda3\\lib\\site-packages\\sklearn\\linear_model\\coordinate_descent.py:484: ConvergenceWarning: Objective did not converge. You might want to increase the number of iterations. Fitting data with very small alpha may cause precision problems.\n",
      "  ConvergenceWarning)\n",
      "C:\\Users\\Arthi\\Anaconda3\\lib\\site-packages\\sklearn\\linear_model\\coordinate_descent.py:484: ConvergenceWarning: Objective did not converge. You might want to increase the number of iterations. Fitting data with very small alpha may cause precision problems.\n",
      "  ConvergenceWarning)\n",
      "C:\\Users\\Arthi\\Anaconda3\\lib\\site-packages\\sklearn\\linear_model\\coordinate_descent.py:484: ConvergenceWarning: Objective did not converge. You might want to increase the number of iterations. Fitting data with very small alpha may cause precision problems.\n",
      "  ConvergenceWarning)\n",
      "C:\\Users\\Arthi\\Anaconda3\\lib\\site-packages\\sklearn\\linear_model\\coordinate_descent.py:484: ConvergenceWarning: Objective did not converge. You might want to increase the number of iterations. Fitting data with very small alpha may cause precision problems.\n",
      "  ConvergenceWarning)\n",
      "C:\\Users\\Arthi\\Anaconda3\\lib\\site-packages\\sklearn\\linear_model\\coordinate_descent.py:484: ConvergenceWarning: Objective did not converge. You might want to increase the number of iterations. Fitting data with very small alpha may cause precision problems.\n",
      "  ConvergenceWarning)\n",
      "C:\\Users\\Arthi\\Anaconda3\\lib\\site-packages\\sklearn\\linear_model\\coordinate_descent.py:484: ConvergenceWarning: Objective did not converge. You might want to increase the number of iterations. Fitting data with very small alpha may cause precision problems.\n",
      "  ConvergenceWarning)\n",
      "C:\\Users\\Arthi\\Anaconda3\\lib\\site-packages\\sklearn\\linear_model\\coordinate_descent.py:484: ConvergenceWarning: Objective did not converge. You might want to increase the number of iterations. Fitting data with very small alpha may cause precision problems.\n",
      "  ConvergenceWarning)\n",
      "C:\\Users\\Arthi\\Anaconda3\\lib\\site-packages\\sklearn\\linear_model\\coordinate_descent.py:484: ConvergenceWarning: Objective did not converge. You might want to increase the number of iterations. Fitting data with very small alpha may cause precision problems.\n",
      "  ConvergenceWarning)\n",
      "C:\\Users\\Arthi\\Anaconda3\\lib\\site-packages\\sklearn\\linear_model\\coordinate_descent.py:484: ConvergenceWarning: Objective did not converge. You might want to increase the number of iterations. Fitting data with very small alpha may cause precision problems.\n",
      "  ConvergenceWarning)\n",
      "C:\\Users\\Arthi\\Anaconda3\\lib\\site-packages\\sklearn\\linear_model\\coordinate_descent.py:484: ConvergenceWarning: Objective did not converge. You might want to increase the number of iterations. Fitting data with very small alpha may cause precision problems.\n",
      "  ConvergenceWarning)\n",
      "C:\\Users\\Arthi\\Anaconda3\\lib\\site-packages\\sklearn\\linear_model\\coordinate_descent.py:484: ConvergenceWarning: Objective did not converge. You might want to increase the number of iterations. Fitting data with very small alpha may cause precision problems.\n",
      "  ConvergenceWarning)\n",
      "C:\\Users\\Arthi\\Anaconda3\\lib\\site-packages\\sklearn\\linear_model\\coordinate_descent.py:484: ConvergenceWarning: Objective did not converge. You might want to increase the number of iterations. Fitting data with very small alpha may cause precision problems.\n",
      "  ConvergenceWarning)\n",
      "C:\\Users\\Arthi\\Anaconda3\\lib\\site-packages\\sklearn\\linear_model\\coordinate_descent.py:484: ConvergenceWarning: Objective did not converge. You might want to increase the number of iterations. Fitting data with very small alpha may cause precision problems.\n",
      "  ConvergenceWarning)\n",
      "C:\\Users\\Arthi\\Anaconda3\\lib\\site-packages\\sklearn\\linear_model\\coordinate_descent.py:484: ConvergenceWarning: Objective did not converge. You might want to increase the number of iterations. Fitting data with very small alpha may cause precision problems.\n",
      "  ConvergenceWarning)\n",
      "C:\\Users\\Arthi\\Anaconda3\\lib\\site-packages\\sklearn\\linear_model\\coordinate_descent.py:484: ConvergenceWarning: Objective did not converge. You might want to increase the number of iterations. Fitting data with very small alpha may cause precision problems.\n",
      "  ConvergenceWarning)\n",
      "C:\\Users\\Arthi\\Anaconda3\\lib\\site-packages\\sklearn\\linear_model\\coordinate_descent.py:484: ConvergenceWarning: Objective did not converge. You might want to increase the number of iterations. Fitting data with very small alpha may cause precision problems.\n",
      "  ConvergenceWarning)\n",
      "C:\\Users\\Arthi\\Anaconda3\\lib\\site-packages\\sklearn\\linear_model\\coordinate_descent.py:484: ConvergenceWarning: Objective did not converge. You might want to increase the number of iterations. Fitting data with very small alpha may cause precision problems.\n",
      "  ConvergenceWarning)\n",
      "C:\\Users\\Arthi\\Anaconda3\\lib\\site-packages\\sklearn\\linear_model\\coordinate_descent.py:484: ConvergenceWarning: Objective did not converge. You might want to increase the number of iterations. Fitting data with very small alpha may cause precision problems.\n",
      "  ConvergenceWarning)\n",
      "C:\\Users\\Arthi\\Anaconda3\\lib\\site-packages\\sklearn\\linear_model\\coordinate_descent.py:484: ConvergenceWarning: Objective did not converge. You might want to increase the number of iterations. Fitting data with very small alpha may cause precision problems.\n",
      "  ConvergenceWarning)\n",
      "C:\\Users\\Arthi\\Anaconda3\\lib\\site-packages\\sklearn\\linear_model\\coordinate_descent.py:484: ConvergenceWarning: Objective did not converge. You might want to increase the number of iterations. Fitting data with very small alpha may cause precision problems.\n",
      "  ConvergenceWarning)\n",
      "C:\\Users\\Arthi\\Anaconda3\\lib\\site-packages\\sklearn\\linear_model\\coordinate_descent.py:484: ConvergenceWarning: Objective did not converge. You might want to increase the number of iterations. Fitting data with very small alpha may cause precision problems.\n",
      "  ConvergenceWarning)\n",
      "C:\\Users\\Arthi\\Anaconda3\\lib\\site-packages\\sklearn\\linear_model\\coordinate_descent.py:484: ConvergenceWarning: Objective did not converge. You might want to increase the number of iterations. Fitting data with very small alpha may cause precision problems.\n",
      "  ConvergenceWarning)\n"
     ]
    },
    {
     "name": "stderr",
     "output_type": "stream",
     "text": [
      "C:\\Users\\Arthi\\Anaconda3\\lib\\site-packages\\sklearn\\linear_model\\coordinate_descent.py:484: ConvergenceWarning: Objective did not converge. You might want to increase the number of iterations. Fitting data with very small alpha may cause precision problems.\n",
      "  ConvergenceWarning)\n",
      "C:\\Users\\Arthi\\Anaconda3\\lib\\site-packages\\sklearn\\linear_model\\coordinate_descent.py:484: ConvergenceWarning: Objective did not converge. You might want to increase the number of iterations. Fitting data with very small alpha may cause precision problems.\n",
      "  ConvergenceWarning)\n",
      "C:\\Users\\Arthi\\Anaconda3\\lib\\site-packages\\sklearn\\linear_model\\coordinate_descent.py:484: ConvergenceWarning: Objective did not converge. You might want to increase the number of iterations. Fitting data with very small alpha may cause precision problems.\n",
      "  ConvergenceWarning)\n",
      "C:\\Users\\Arthi\\Anaconda3\\lib\\site-packages\\sklearn\\linear_model\\coordinate_descent.py:484: ConvergenceWarning: Objective did not converge. You might want to increase the number of iterations. Fitting data with very small alpha may cause precision problems.\n",
      "  ConvergenceWarning)\n",
      "C:\\Users\\Arthi\\Anaconda3\\lib\\site-packages\\sklearn\\linear_model\\coordinate_descent.py:484: ConvergenceWarning: Objective did not converge. You might want to increase the number of iterations. Fitting data with very small alpha may cause precision problems.\n",
      "  ConvergenceWarning)\n",
      "C:\\Users\\Arthi\\Anaconda3\\lib\\site-packages\\sklearn\\linear_model\\coordinate_descent.py:484: ConvergenceWarning: Objective did not converge. You might want to increase the number of iterations. Fitting data with very small alpha may cause precision problems.\n",
      "  ConvergenceWarning)\n",
      "C:\\Users\\Arthi\\Anaconda3\\lib\\site-packages\\sklearn\\linear_model\\coordinate_descent.py:484: ConvergenceWarning: Objective did not converge. You might want to increase the number of iterations. Fitting data with very small alpha may cause precision problems.\n",
      "  ConvergenceWarning)\n",
      "C:\\Users\\Arthi\\Anaconda3\\lib\\site-packages\\sklearn\\linear_model\\coordinate_descent.py:484: ConvergenceWarning: Objective did not converge. You might want to increase the number of iterations. Fitting data with very small alpha may cause precision problems.\n",
      "  ConvergenceWarning)\n",
      "C:\\Users\\Arthi\\Anaconda3\\lib\\site-packages\\sklearn\\linear_model\\coordinate_descent.py:484: ConvergenceWarning: Objective did not converge. You might want to increase the number of iterations. Fitting data with very small alpha may cause precision problems.\n",
      "  ConvergenceWarning)\n",
      "C:\\Users\\Arthi\\Anaconda3\\lib\\site-packages\\sklearn\\linear_model\\coordinate_descent.py:484: ConvergenceWarning: Objective did not converge. You might want to increase the number of iterations. Fitting data with very small alpha may cause precision problems.\n",
      "  ConvergenceWarning)\n",
      "C:\\Users\\Arthi\\Anaconda3\\lib\\site-packages\\sklearn\\linear_model\\coordinate_descent.py:484: ConvergenceWarning: Objective did not converge. You might want to increase the number of iterations. Fitting data with very small alpha may cause precision problems.\n",
      "  ConvergenceWarning)\n",
      "C:\\Users\\Arthi\\Anaconda3\\lib\\site-packages\\sklearn\\linear_model\\coordinate_descent.py:484: ConvergenceWarning: Objective did not converge. You might want to increase the number of iterations. Fitting data with very small alpha may cause precision problems.\n",
      "  ConvergenceWarning)\n",
      "C:\\Users\\Arthi\\Anaconda3\\lib\\site-packages\\sklearn\\linear_model\\coordinate_descent.py:484: ConvergenceWarning: Objective did not converge. You might want to increase the number of iterations. Fitting data with very small alpha may cause precision problems.\n",
      "  ConvergenceWarning)\n",
      "C:\\Users\\Arthi\\Anaconda3\\lib\\site-packages\\sklearn\\linear_model\\coordinate_descent.py:484: ConvergenceWarning: Objective did not converge. You might want to increase the number of iterations. Fitting data with very small alpha may cause precision problems.\n",
      "  ConvergenceWarning)\n",
      "C:\\Users\\Arthi\\Anaconda3\\lib\\site-packages\\sklearn\\linear_model\\coordinate_descent.py:484: ConvergenceWarning: Objective did not converge. You might want to increase the number of iterations. Fitting data with very small alpha may cause precision problems.\n",
      "  ConvergenceWarning)\n",
      "C:\\Users\\Arthi\\Anaconda3\\lib\\site-packages\\sklearn\\linear_model\\coordinate_descent.py:484: ConvergenceWarning: Objective did not converge. You might want to increase the number of iterations. Fitting data with very small alpha may cause precision problems.\n",
      "  ConvergenceWarning)\n",
      "C:\\Users\\Arthi\\Anaconda3\\lib\\site-packages\\sklearn\\linear_model\\coordinate_descent.py:484: ConvergenceWarning: Objective did not converge. You might want to increase the number of iterations. Fitting data with very small alpha may cause precision problems.\n",
      "  ConvergenceWarning)\n",
      "C:\\Users\\Arthi\\Anaconda3\\lib\\site-packages\\sklearn\\linear_model\\coordinate_descent.py:484: ConvergenceWarning: Objective did not converge. You might want to increase the number of iterations. Fitting data with very small alpha may cause precision problems.\n",
      "  ConvergenceWarning)\n",
      "C:\\Users\\Arthi\\Anaconda3\\lib\\site-packages\\sklearn\\linear_model\\coordinate_descent.py:484: ConvergenceWarning: Objective did not converge. You might want to increase the number of iterations. Fitting data with very small alpha may cause precision problems.\n",
      "  ConvergenceWarning)\n",
      "C:\\Users\\Arthi\\Anaconda3\\lib\\site-packages\\sklearn\\linear_model\\coordinate_descent.py:484: ConvergenceWarning: Objective did not converge. You might want to increase the number of iterations. Fitting data with very small alpha may cause precision problems.\n",
      "  ConvergenceWarning)\n",
      "C:\\Users\\Arthi\\Anaconda3\\lib\\site-packages\\sklearn\\linear_model\\coordinate_descent.py:484: ConvergenceWarning: Objective did not converge. You might want to increase the number of iterations. Fitting data with very small alpha may cause precision problems.\n",
      "  ConvergenceWarning)\n",
      "C:\\Users\\Arthi\\Anaconda3\\lib\\site-packages\\sklearn\\linear_model\\coordinate_descent.py:484: ConvergenceWarning: Objective did not converge. You might want to increase the number of iterations. Fitting data with very small alpha may cause precision problems.\n",
      "  ConvergenceWarning)\n",
      "C:\\Users\\Arthi\\Anaconda3\\lib\\site-packages\\sklearn\\linear_model\\coordinate_descent.py:484: ConvergenceWarning: Objective did not converge. You might want to increase the number of iterations. Fitting data with very small alpha may cause precision problems.\n",
      "  ConvergenceWarning)\n",
      "C:\\Users\\Arthi\\Anaconda3\\lib\\site-packages\\sklearn\\linear_model\\coordinate_descent.py:484: ConvergenceWarning: Objective did not converge. You might want to increase the number of iterations. Fitting data with very small alpha may cause precision problems.\n",
      "  ConvergenceWarning)\n",
      "C:\\Users\\Arthi\\Anaconda3\\lib\\site-packages\\sklearn\\linear_model\\coordinate_descent.py:484: ConvergenceWarning: Objective did not converge. You might want to increase the number of iterations. Fitting data with very small alpha may cause precision problems.\n",
      "  ConvergenceWarning)\n",
      "C:\\Users\\Arthi\\Anaconda3\\lib\\site-packages\\sklearn\\linear_model\\coordinate_descent.py:484: ConvergenceWarning: Objective did not converge. You might want to increase the number of iterations. Fitting data with very small alpha may cause precision problems.\n",
      "  ConvergenceWarning)\n",
      "C:\\Users\\Arthi\\Anaconda3\\lib\\site-packages\\sklearn\\linear_model\\coordinate_descent.py:484: ConvergenceWarning: Objective did not converge. You might want to increase the number of iterations. Fitting data with very small alpha may cause precision problems.\n",
      "  ConvergenceWarning)\n",
      "C:\\Users\\Arthi\\Anaconda3\\lib\\site-packages\\sklearn\\linear_model\\coordinate_descent.py:484: ConvergenceWarning: Objective did not converge. You might want to increase the number of iterations. Fitting data with very small alpha may cause precision problems.\n",
      "  ConvergenceWarning)\n",
      "C:\\Users\\Arthi\\Anaconda3\\lib\\site-packages\\sklearn\\linear_model\\coordinate_descent.py:484: ConvergenceWarning: Objective did not converge. You might want to increase the number of iterations. Fitting data with very small alpha may cause precision problems.\n",
      "  ConvergenceWarning)\n",
      "C:\\Users\\Arthi\\Anaconda3\\lib\\site-packages\\sklearn\\linear_model\\coordinate_descent.py:484: ConvergenceWarning: Objective did not converge. You might want to increase the number of iterations. Fitting data with very small alpha may cause precision problems.\n",
      "  ConvergenceWarning)\n"
     ]
    },
    {
     "name": "stderr",
     "output_type": "stream",
     "text": [
      "C:\\Users\\Arthi\\Anaconda3\\lib\\site-packages\\sklearn\\linear_model\\coordinate_descent.py:484: ConvergenceWarning: Objective did not converge. You might want to increase the number of iterations. Fitting data with very small alpha may cause precision problems.\n",
      "  ConvergenceWarning)\n",
      "C:\\Users\\Arthi\\Anaconda3\\lib\\site-packages\\sklearn\\linear_model\\coordinate_descent.py:484: ConvergenceWarning: Objective did not converge. You might want to increase the number of iterations. Fitting data with very small alpha may cause precision problems.\n",
      "  ConvergenceWarning)\n",
      "C:\\Users\\Arthi\\Anaconda3\\lib\\site-packages\\sklearn\\linear_model\\coordinate_descent.py:484: ConvergenceWarning: Objective did not converge. You might want to increase the number of iterations. Fitting data with very small alpha may cause precision problems.\n",
      "  ConvergenceWarning)\n",
      "C:\\Users\\Arthi\\Anaconda3\\lib\\site-packages\\sklearn\\linear_model\\coordinate_descent.py:484: ConvergenceWarning: Objective did not converge. You might want to increase the number of iterations. Fitting data with very small alpha may cause precision problems.\n",
      "  ConvergenceWarning)\n",
      "C:\\Users\\Arthi\\Anaconda3\\lib\\site-packages\\sklearn\\linear_model\\coordinate_descent.py:484: ConvergenceWarning: Objective did not converge. You might want to increase the number of iterations. Fitting data with very small alpha may cause precision problems.\n",
      "  ConvergenceWarning)\n"
     ]
    },
    {
     "data": {
      "text/plain": [
       "GridSearchCV(cv=10, error_score='raise',\n",
       "       estimator=Lasso(alpha=1.0, copy_X=True, fit_intercept=True, max_iter=1000,\n",
       "   normalize=False, positive=False, precompute=False, random_state=None,\n",
       "   selection='cyclic', tol=0.0001, warm_start=False),\n",
       "       fit_params={}, iid=True, n_jobs=1,\n",
       "       param_grid={'alpha': [0.001, 0.01, 0.1, 1, 10, 100], 'max_iter': [100, 1000, 10000]},\n",
       "       pre_dispatch='2*n_jobs', refit=True, return_train_score=True,\n",
       "       scoring=None, verbose=0)"
      ]
     },
     "execution_count": 188,
     "metadata": {},
     "output_type": "execute_result"
    }
   ],
   "source": [
    "#Lasso with polynomial features\n",
    "lasso=Lasso()\n",
    "param_grid = {'alpha': [0.001, 0.01, 0.1, 1, 10, 100], 'max_iter': [100,1000,10000]}\n",
    "\n",
    "grid_search_lasso = GridSearchCV(lasso, param_grid, cv=10)\n",
    "\n",
    "grid_search_lasso.fit(X_poly3, y)\n",
    "\n"
   ]
  },
  {
   "cell_type": "code",
   "execution_count": 189,
   "metadata": {},
   "outputs": [
    {
     "name": "stdout",
     "output_type": "stream",
     "text": [
      "Best parameters: {'alpha': 0.1, 'max_iter': 10000}\n",
      "Best cross-validation score: 0.92\n"
     ]
    }
   ],
   "source": [
    "print(\"Best parameters: {}\".format(grid_search_lasso.best_params_))\n",
    "print(\"Best cross-validation score: {:.2f}\".format(grid_search_lasso.best_score_))"
   ]
  },
  {
   "cell_type": "markdown",
   "metadata": {},
   "source": [
    "## SVM"
   ]
  },
  {
   "cell_type": "markdown",
   "metadata": {},
   "source": [
    "### Linear and Kernelized SVM"
   ]
  },
  {
   "cell_type": "code",
   "execution_count": 94,
   "metadata": {},
   "outputs": [
    {
     "data": {
      "text/plain": [
       "GridSearchCV(cv=10, error_score='raise',\n",
       "       estimator=SVR(C=1.0, cache_size=200, coef0=0.0, degree=3, epsilon=0.1, gamma='auto',\n",
       "  kernel='linear', max_iter=-1, shrinking=True, tol=0.001, verbose=False),\n",
       "       fit_params={}, iid=True, n_jobs=1,\n",
       "       param_grid={'epsilon': [0.01, 0.1, 1, 10, 100], 'C': [1, 10, 100, 1000, 10000], 'degree': [2, 3]},\n",
       "       pre_dispatch='2*n_jobs', refit=True, return_train_score=True,\n",
       "       scoring=None, verbose=0)"
      ]
     },
     "execution_count": 94,
     "metadata": {},
     "output_type": "execute_result"
    }
   ],
   "source": [
    "from sklearn.svm import SVR\n",
    "svr = SVR(kernel = 'linear')\n",
    "param_grid={\"epsilon\" : [0.01,0.1,1,10,100],\"C\" : [1,10,100,1000,10000],\"degree\" : [2,3]}\n",
    "grid_search = GridSearchCV(svr, param_grid, cv=10)\n",
    "grid_search.fit(X, y)\n"
   ]
  },
  {
   "cell_type": "code",
   "execution_count": 96,
   "metadata": {},
   "outputs": [
    {
     "name": "stdout",
     "output_type": "stream",
     "text": [
      "Best parameters: {'C': 10000, 'degree': 2, 'epsilon': 100}\n",
      "Best cross-validation score: 0.80\n"
     ]
    }
   ],
   "source": [
    "print(\"Best parameters: {}\".format(grid_search.best_params_))\n",
    "print(\"Best cross-validation score: {:.2f}\".format(grid_search.best_score_))"
   ]
  },
  {
   "cell_type": "code",
   "execution_count": 97,
   "metadata": {},
   "outputs": [
    {
     "data": {
      "text/plain": [
       "GridSearchCV(cv=10, error_score='raise',\n",
       "       estimator=SVR(C=1.0, cache_size=200, coef0=0.0, degree=3, epsilon=0.1, gamma='auto',\n",
       "  kernel='poly', max_iter=-1, shrinking=True, tol=0.001, verbose=False),\n",
       "       fit_params={}, iid=True, n_jobs=1,\n",
       "       param_grid={'epsilon': [0.01, 0.1, 1, 10, 100], 'C': [1, 10, 100, 1000, 10000], 'degree': [2, 3]},\n",
       "       pre_dispatch='2*n_jobs', refit=True, return_train_score=True,\n",
       "       scoring=None, verbose=0)"
      ]
     },
     "execution_count": 97,
     "metadata": {},
     "output_type": "execute_result"
    }
   ],
   "source": [
    "svr = SVR(kernel = 'poly')\n",
    "param_grid={\"epsilon\" : [0.01,0.1,1,10,100],\"C\" : [1,10,100,1000,10000],\"degree\" : [2,3]}\n",
    "grid_search = GridSearchCV(svr, param_grid, cv=10)\n",
    "grid_search.fit(X, y)\n"
   ]
  },
  {
   "cell_type": "code",
   "execution_count": 98,
   "metadata": {},
   "outputs": [
    {
     "name": "stdout",
     "output_type": "stream",
     "text": [
      "Best parameters: {'C': 10000, 'degree': 2, 'epsilon': 100}\n",
      "Best cross-validation score: 0.24\n"
     ]
    }
   ],
   "source": [
    "print(\"Best parameters: {}\".format(grid_search.best_params_))\n",
    "print(\"Best cross-validation score: {:.2f}\".format(grid_search.best_score_))"
   ]
  },
  {
   "cell_type": "code",
   "execution_count": 100,
   "metadata": {},
   "outputs": [
    {
     "data": {
      "text/plain": [
       "GridSearchCV(cv=10, error_score='raise',\n",
       "       estimator=SVR(C=1.0, cache_size=200, coef0=0.0, degree=3, epsilon=0.1, gamma='auto',\n",
       "  kernel='rbf', max_iter=-1, shrinking=True, tol=0.001, verbose=False),\n",
       "       fit_params={}, iid=True, n_jobs=1,\n",
       "       param_grid={'epsilon': [0.01, 0.1, 1, 10, 100], 'C': [1, 10, 100, 1000, 10000], 'degree': [2, 3]},\n",
       "       pre_dispatch='2*n_jobs', refit=True, return_train_score=True,\n",
       "       scoring=None, verbose=0)"
      ]
     },
     "execution_count": 100,
     "metadata": {},
     "output_type": "execute_result"
    }
   ],
   "source": [
    "svr = SVR(kernel = 'rbf')\n",
    "param_grid={\"epsilon\" : [0.01,0.1,1,10,100],\"C\" : [1,10,100,1000,10000],\"degree\" : [2,3]}\n",
    "grid_search = GridSearchCV(svr, param_grid, cv=10)\n",
    "grid_search.fit(X, y)\n",
    "\n"
   ]
  },
  {
   "cell_type": "code",
   "execution_count": 101,
   "metadata": {},
   "outputs": [
    {
     "name": "stdout",
     "output_type": "stream",
     "text": [
      "Best parameters: {'C': 10000, 'degree': 2, 'epsilon': 10}\n",
      "Best cross-validation score: 0.83\n"
     ]
    }
   ],
   "source": [
    "print(\"Best parameters: {}\".format(grid_search.best_params_))\n",
    "print(\"Best cross-validation score: {:.2f}\".format(grid_search.best_score_))"
   ]
  },
  {
   "cell_type": "markdown",
   "metadata": {},
   "source": [
    "# Summary of Models Built: \n",
    "\n",
    "Missing Value Treatment:\n",
    "Few columns had missing values, so used KNN algorithm through fancy impute to populate the data \n",
    "\n",
    "Multi Collinearity:\n",
    "Correlation between variuos models built were checked. Based on VIF (variance inflation factor) highly correlated variables were removed as unreliable R squared values were obtained\n",
    "\n",
    "Non correlated variables included in the model: \n",
    "\"btc_trade_volume\",\n",
    "\"btc_n_orphaned_blocks\",\n",
    "\"btc_median_confirmation_time\",\n",
    "\"btc_transaction_fees\",\n",
    "\"btc_cost_per_transaction_percent\",\n",
    "\"btc_output_volume\",\n",
    "\"btc_estimated_transaction_volume\"\n",
    "\n",
    "\n",
    "Selecting best parameter value and validating model efficiency:\n",
    "\n",
    "Linear regression :\n",
    "Cross validation score:  0.79\n",
    "\n",
    "KNN:\n",
    "Best parameters: {'n_neighbors': 5}\n",
    "Best cross-validation score: 0.93\n",
    "\n",
    "Ridge:\n",
    "Best parameters: {'alpha': 0.1}\n",
    "Best cross-validation score: 0.81\n",
    "\n",
    "Lasso:\n",
    "Best parameters: {'alpha': 1, 'max_iter': 100}\n",
    "Best cross-validation score: 0.81\n",
    "\n",
    "Polynomial Regression:\n",
    "Degree 2:\n",
    "Cross Validation score: 0.8962\n",
    "\n",
    "Performing Ridge using polynomial features of degree 2:\n",
    "Best parameters: {'alpha': 0.001}\n",
    "Best cross-validation score: 0.90\n",
    "\n",
    "Performing Lasso using polynomial features of degree 2:\n",
    "Best parameters: {'alpha': 0.01, 'max_iter': 1000}\n",
    "Best cross-validation score: 0.91\n",
    "\n",
    "Polynomial Regression:\n",
    "Degree 3:\n",
    "Cross Validation score: 0.895\n",
    "\n",
    "Performing Ridge using polynomial features of degree 3:\n",
    "Best parameters: {'alpha': 0.001}\n",
    "Best cross-validation score: 0.90\n",
    "Performing Lasso using polynomial features of degree 3:\n",
    "Best parameters: {'alpha': 0.1, 'max_iter': 10000}\n",
    "Best cross-validation score: 0.92\n",
    "\n",
    "SVM Linear: \n",
    "Best parameters: {'C': 10000, 'degree': 2, 'epsilon': 100}\n",
    "Best cross-validation score: 0.80\n",
    "\n",
    "SVM Kernelized \n",
    "\n",
    "\n",
    "\"polynomial\":\n",
    "Best parameters: {'C': 10000, 'degree': 2, 'epsilon': 100}\n",
    "Best cross-validation score: 0.24\n",
    "\n",
    "\"RBF\":\n",
    "Best parameters: {'C': 10000, 'degree': 2, 'epsilon': 10}\n",
    "Best cross-validation score: 0.83"
   ]
  },
  {
   "cell_type": "markdown",
   "metadata": {},
   "source": [
    "## Best Model :\n",
    "\n",
    "Based on cross validation score/ R square value KNN has the highest score when number of neighbors used to predict the market price is 5.\n",
    "Lasso applied on polynomial features of degree 3 gave a cross validation score of 0.92. \n",
    "\n",
    "However, KNN model is simple and easier to interpret. Therfore, choosing KNN with K=5 (num_neighbors =5 ) to fit the entire given dataset and use the model to predict bit coin price of test data\n"
   ]
  },
  {
   "cell_type": "code",
   "execution_count": 128,
   "metadata": {},
   "outputs": [
    {
     "data": {
      "text/plain": [
       "0     13739.325669\n",
       "1     13739.325669\n",
       "2     13739.325669\n",
       "3     13739.325669\n",
       "4     13739.325669\n",
       "5     13739.325669\n",
       "6     13739.325669\n",
       "7     13739.325669\n",
       "8     13739.325669\n",
       "9     13739.325669\n",
       "10    13739.325669\n",
       "11    13739.325669\n",
       "12    13739.325669\n",
       "13    13739.325669\n",
       "Name: predicted_market_price, dtype: float64"
      ]
     },
     "execution_count": 128,
     "metadata": {},
     "output_type": "execute_result"
    }
   ],
   "source": [
    "# pedict test\n",
    "knnreg = KNeighborsRegressor(n_neighbors = 5)\n",
    "knnreg.fit(X,y)\n",
    "test=test[non_col]\n",
    "test[\"predicted_market_price\"]=knnreg.predict(test)\n",
    "test[\"predicted_market_price\"]\n",
    "\n",
    "#Same values are observed as the bitcoin price will not highly fluctuate over consecutive dates\n"
   ]
  }
 ],
 "metadata": {
  "kernelspec": {
   "display_name": "Python 3",
   "language": "python",
   "name": "python3"
  },
  "language_info": {
   "codemirror_mode": {
    "name": "ipython",
    "version": 3
   },
   "file_extension": ".py",
   "mimetype": "text/x-python",
   "name": "python",
   "nbconvert_exporter": "python",
   "pygments_lexer": "ipython3",
   "version": "3.6.1"
  }
 },
 "nbformat": 4,
 "nbformat_minor": 2
}
